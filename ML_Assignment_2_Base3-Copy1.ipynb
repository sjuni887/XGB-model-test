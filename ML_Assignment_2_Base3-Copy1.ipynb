{
 "cells": [
  {
   "cell_type": "code",
   "execution_count": 2,
   "metadata": {},
   "outputs": [],
   "source": [
    "# import the required packages\n",
    "\n",
    "# tabular data\n",
    "import pandas as pd\n",
    "import numpy as np \n",
    "from tabulate import tabulate\n",
    "\n",
    "# data visualization\n",
    "import matplotlib.pyplot as plt\n",
    "import seaborn as sns\n",
    "\n",
    "# train test split\n",
    "from sklearn.model_selection import train_test_split\n",
    "\n",
    "# metrics \n",
    "from sklearn.metrics import classification_report\n",
    "from sklearn import metrics\n",
    "from sklearn.metrics import mean_squared_error, mean_absolute_error,r2_score\n",
    "from sklearn.metrics import accuracy_score\n",
    "\n",
    "\n",
    "# model opitmization\n",
    "from sklearn.model_selection import GridSearchCV\n",
    "\n",
    "# model evaluation\n",
    "from sklearn.model_selection import cross_val_score, cross_validate\n",
    "from sklearn.metrics import confusion_matrix, classification_report\n",
    "from sklearn.model_selection import learning_curve\n",
    "from sklearn.model_selection import validation_curve\n",
    "\n",
    "# time - test\n",
    "import time\n",
    "\n",
    "# math \n",
    "from math import sqrt\n",
    "\n",
    "# statistical models \n",
    "import statsmodels.api as sm\n",
    "\n",
    "# classification models \n",
    "from sklearn.linear_model import LogisticRegression\n",
    "from sklearn.tree import DecisionTreeClassifier\n",
    "from sklearn import tree\n",
    "from sklearn.ensemble import RandomForestClassifier\n",
    "from sklearn.svm import SVC\n",
    "from sklearn.neural_network import MLPClassifier\n",
    "from sklearn.ensemble import AdaBoostClassifier\n",
    "from xgboost import XGBClassifier\n",
    "from sklearn.ensemble import BaggingClassifier\n",
    "from sklearn.ensemble import StackingClassifier\n",
    "\n",
    "from sklearn.preprocessing import StandardScaler"
   ]
  },
  {
   "cell_type": "code",
   "execution_count": 3,
   "metadata": {},
   "outputs": [],
   "source": [
    "notebook_start_time = time.time()"
   ]
  },
  {
   "cell_type": "markdown",
   "metadata": {},
   "source": [
    "## 1. HR Analytics"
   ]
  },
  {
   "cell_type": "markdown",
   "metadata": {},
   "source": [
    "### 1.1 Load and Sample the data"
   ]
  },
  {
   "cell_type": "code",
   "execution_count": 4,
   "metadata": {},
   "outputs": [],
   "source": [
    "df_hr = pd.read_csv('./hr_csv_transformed.csv')"
   ]
  },
  {
   "cell_type": "code",
   "execution_count": 5,
   "metadata": {},
   "outputs": [
    {
     "name": "stdout",
     "output_type": "stream",
     "text": [
      "<class 'pandas.core.frame.DataFrame'>\n",
      "RangeIndex: 9092 entries, 0 to 9091\n",
      "Data columns (total 24 columns):\n",
      " #   Column                        Non-Null Count  Dtype  \n",
      "---  ------                        --------------  -----  \n",
      " 0   region                        9092 non-null   int64  \n",
      " 1   education                     9092 non-null   int64  \n",
      " 2   no_of_trainings               9092 non-null   float64\n",
      " 3   age                           9092 non-null   float64\n",
      " 4   previous_year_rating          9092 non-null   float64\n",
      " 5   length_of_service             9092 non-null   float64\n",
      " 6   KPIs_met >80%                 9092 non-null   int64  \n",
      " 7   awards_won?                   9092 non-null   int64  \n",
      " 8   avg_training_score            9092 non-null   float64\n",
      " 9   is_promoted                   9092 non-null   int64  \n",
      " 10  department_Sales & Marketing  9092 non-null   int64  \n",
      " 11  department_Operations         9092 non-null   int64  \n",
      " 12  department_Technology         9092 non-null   int64  \n",
      " 13  department_Analytics          9092 non-null   int64  \n",
      " 14  department_R&D                9092 non-null   int64  \n",
      " 15  department_Procurement        9092 non-null   int64  \n",
      " 16  department_Finance            9092 non-null   int64  \n",
      " 17  department_HR                 9092 non-null   int64  \n",
      " 18  department_Legal              9092 non-null   int64  \n",
      " 19  gender_f                      9092 non-null   int64  \n",
      " 20  gender_m                      9092 non-null   int64  \n",
      " 21  recruitment_channel_sourcing  9092 non-null   int64  \n",
      " 22  recruitment_channel_other     9092 non-null   int64  \n",
      " 23  recruitment_channel_referred  9092 non-null   int64  \n",
      "dtypes: float64(5), int64(19)\n",
      "memory usage: 1.7 MB\n"
     ]
    }
   ],
   "source": [
    "df_hr.info()"
   ]
  },
  {
   "cell_type": "code",
   "execution_count": 6,
   "metadata": {},
   "outputs": [
    {
     "data": {
      "text/html": [
       "<div>\n",
       "<style scoped>\n",
       "    .dataframe tbody tr th:only-of-type {\n",
       "        vertical-align: middle;\n",
       "    }\n",
       "\n",
       "    .dataframe tbody tr th {\n",
       "        vertical-align: top;\n",
       "    }\n",
       "\n",
       "    .dataframe thead th {\n",
       "        text-align: right;\n",
       "    }\n",
       "</style>\n",
       "<table border=\"1\" class=\"dataframe\">\n",
       "  <thead>\n",
       "    <tr style=\"text-align: right;\">\n",
       "      <th></th>\n",
       "      <th>region</th>\n",
       "      <th>education</th>\n",
       "      <th>no_of_trainings</th>\n",
       "      <th>age</th>\n",
       "      <th>previous_year_rating</th>\n",
       "      <th>length_of_service</th>\n",
       "      <th>KPIs_met &gt;80%</th>\n",
       "      <th>awards_won?</th>\n",
       "      <th>avg_training_score</th>\n",
       "      <th>is_promoted</th>\n",
       "      <th>...</th>\n",
       "      <th>department_R&amp;D</th>\n",
       "      <th>department_Procurement</th>\n",
       "      <th>department_Finance</th>\n",
       "      <th>department_HR</th>\n",
       "      <th>department_Legal</th>\n",
       "      <th>gender_f</th>\n",
       "      <th>gender_m</th>\n",
       "      <th>recruitment_channel_sourcing</th>\n",
       "      <th>recruitment_channel_other</th>\n",
       "      <th>recruitment_channel_referred</th>\n",
       "    </tr>\n",
       "  </thead>\n",
       "  <tbody>\n",
       "    <tr>\n",
       "      <th>0</th>\n",
       "      <td>6108</td>\n",
       "      <td>1</td>\n",
       "      <td>2.0</td>\n",
       "      <td>-0.103865</td>\n",
       "      <td>0.0</td>\n",
       "      <td>-0.503161</td>\n",
       "      <td>0</td>\n",
       "      <td>0</td>\n",
       "      <td>-0.12</td>\n",
       "      <td>0</td>\n",
       "      <td>...</td>\n",
       "      <td>0</td>\n",
       "      <td>0</td>\n",
       "      <td>0</td>\n",
       "      <td>0</td>\n",
       "      <td>0</td>\n",
       "      <td>0</td>\n",
       "      <td>1</td>\n",
       "      <td>0</td>\n",
       "      <td>1</td>\n",
       "      <td>0</td>\n",
       "    </tr>\n",
       "    <tr>\n",
       "      <th>1</th>\n",
       "      <td>785</td>\n",
       "      <td>1</td>\n",
       "      <td>1.0</td>\n",
       "      <td>-0.677333</td>\n",
       "      <td>-2.0</td>\n",
       "      <td>-0.225465</td>\n",
       "      <td>0</td>\n",
       "      <td>0</td>\n",
       "      <td>1.04</td>\n",
       "      <td>0</td>\n",
       "      <td>...</td>\n",
       "      <td>0</td>\n",
       "      <td>0</td>\n",
       "      <td>0</td>\n",
       "      <td>0</td>\n",
       "      <td>0</td>\n",
       "      <td>0</td>\n",
       "      <td>1</td>\n",
       "      <td>0</td>\n",
       "      <td>1</td>\n",
       "      <td>0</td>\n",
       "    </tr>\n",
       "    <tr>\n",
       "      <th>2</th>\n",
       "      <td>1234</td>\n",
       "      <td>2</td>\n",
       "      <td>0.0</td>\n",
       "      <td>-0.321705</td>\n",
       "      <td>1.0</td>\n",
       "      <td>-0.864038</td>\n",
       "      <td>1</td>\n",
       "      <td>0</td>\n",
       "      <td>-0.44</td>\n",
       "      <td>0</td>\n",
       "      <td>...</td>\n",
       "      <td>0</td>\n",
       "      <td>0</td>\n",
       "      <td>0</td>\n",
       "      <td>0</td>\n",
       "      <td>0</td>\n",
       "      <td>0</td>\n",
       "      <td>1</td>\n",
       "      <td>0</td>\n",
       "      <td>1</td>\n",
       "      <td>0</td>\n",
       "    </tr>\n",
       "    <tr>\n",
       "      <th>3</th>\n",
       "      <td>6108</td>\n",
       "      <td>1</td>\n",
       "      <td>0.0</td>\n",
       "      <td>-0.436134</td>\n",
       "      <td>1.0</td>\n",
       "      <td>-0.864038</td>\n",
       "      <td>0</td>\n",
       "      <td>0</td>\n",
       "      <td>-0.08</td>\n",
       "      <td>0</td>\n",
       "      <td>...</td>\n",
       "      <td>0</td>\n",
       "      <td>0</td>\n",
       "      <td>1</td>\n",
       "      <td>0</td>\n",
       "      <td>0</td>\n",
       "      <td>0</td>\n",
       "      <td>1</td>\n",
       "      <td>1</td>\n",
       "      <td>0</td>\n",
       "      <td>0</td>\n",
       "    </tr>\n",
       "    <tr>\n",
       "      <th>4</th>\n",
       "      <td>1701</td>\n",
       "      <td>2</td>\n",
       "      <td>0.0</td>\n",
       "      <td>0.732668</td>\n",
       "      <td>-2.0</td>\n",
       "      <td>0.740418</td>\n",
       "      <td>0</td>\n",
       "      <td>0</td>\n",
       "      <td>-0.20</td>\n",
       "      <td>0</td>\n",
       "      <td>...</td>\n",
       "      <td>0</td>\n",
       "      <td>0</td>\n",
       "      <td>0</td>\n",
       "      <td>0</td>\n",
       "      <td>0</td>\n",
       "      <td>1</td>\n",
       "      <td>0</td>\n",
       "      <td>1</td>\n",
       "      <td>0</td>\n",
       "      <td>0</td>\n",
       "    </tr>\n",
       "  </tbody>\n",
       "</table>\n",
       "<p>5 rows × 24 columns</p>\n",
       "</div>"
      ],
      "text/plain": [
       "   region  education  no_of_trainings       age  previous_year_rating  \\\n",
       "0    6108          1              2.0 -0.103865                   0.0   \n",
       "1     785          1              1.0 -0.677333                  -2.0   \n",
       "2    1234          2              0.0 -0.321705                   1.0   \n",
       "3    6108          1              0.0 -0.436134                   1.0   \n",
       "4    1701          2              0.0  0.732668                  -2.0   \n",
       "\n",
       "   length_of_service  KPIs_met >80%  awards_won?  avg_training_score  \\\n",
       "0          -0.503161              0            0               -0.12   \n",
       "1          -0.225465              0            0                1.04   \n",
       "2          -0.864038              1            0               -0.44   \n",
       "3          -0.864038              0            0               -0.08   \n",
       "4           0.740418              0            0               -0.20   \n",
       "\n",
       "   is_promoted  ...  department_R&D  department_Procurement  \\\n",
       "0            0  ...               0                       0   \n",
       "1            0  ...               0                       0   \n",
       "2            0  ...               0                       0   \n",
       "3            0  ...               0                       0   \n",
       "4            0  ...               0                       0   \n",
       "\n",
       "   department_Finance  department_HR  department_Legal  gender_f  gender_m  \\\n",
       "0                   0              0                 0         0         1   \n",
       "1                   0              0                 0         0         1   \n",
       "2                   0              0                 0         0         1   \n",
       "3                   1              0                 0         0         1   \n",
       "4                   0              0                 0         1         0   \n",
       "\n",
       "   recruitment_channel_sourcing  recruitment_channel_other  \\\n",
       "0                             0                          1   \n",
       "1                             0                          1   \n",
       "2                             0                          1   \n",
       "3                             1                          0   \n",
       "4                             1                          0   \n",
       "\n",
       "   recruitment_channel_referred  \n",
       "0                             0  \n",
       "1                             0  \n",
       "2                             0  \n",
       "3                             0  \n",
       "4                             0  \n",
       "\n",
       "[5 rows x 24 columns]"
      ]
     },
     "execution_count": 6,
     "metadata": {},
     "output_type": "execute_result"
    }
   ],
   "source": [
    "df_hr.head()"
   ]
  },
  {
   "cell_type": "code",
   "execution_count": 7,
   "metadata": {},
   "outputs": [
    {
     "data": {
      "text/html": [
       "<div>\n",
       "<style scoped>\n",
       "    .dataframe tbody tr th:only-of-type {\n",
       "        vertical-align: middle;\n",
       "    }\n",
       "\n",
       "    .dataframe tbody tr th {\n",
       "        vertical-align: top;\n",
       "    }\n",
       "\n",
       "    .dataframe thead th {\n",
       "        text-align: right;\n",
       "    }\n",
       "</style>\n",
       "<table border=\"1\" class=\"dataframe\">\n",
       "  <thead>\n",
       "    <tr style=\"text-align: right;\">\n",
       "      <th></th>\n",
       "      <th>region</th>\n",
       "      <th>education</th>\n",
       "      <th>no_of_trainings</th>\n",
       "      <th>age</th>\n",
       "      <th>previous_year_rating</th>\n",
       "      <th>length_of_service</th>\n",
       "      <th>KPIs_met &gt;80%</th>\n",
       "      <th>awards_won?</th>\n",
       "      <th>avg_training_score</th>\n",
       "      <th>is_promoted</th>\n",
       "      <th>...</th>\n",
       "      <th>department_R&amp;D</th>\n",
       "      <th>department_Procurement</th>\n",
       "      <th>department_Finance</th>\n",
       "      <th>department_HR</th>\n",
       "      <th>department_Legal</th>\n",
       "      <th>gender_f</th>\n",
       "      <th>gender_m</th>\n",
       "      <th>recruitment_channel_sourcing</th>\n",
       "      <th>recruitment_channel_other</th>\n",
       "      <th>recruitment_channel_referred</th>\n",
       "    </tr>\n",
       "  </thead>\n",
       "  <tbody>\n",
       "    <tr>\n",
       "      <th>count</th>\n",
       "      <td>9092.000000</td>\n",
       "      <td>9092.000000</td>\n",
       "      <td>9092.000000</td>\n",
       "      <td>9092.000000</td>\n",
       "      <td>9092.000000</td>\n",
       "      <td>9092.000000</td>\n",
       "      <td>9092.000000</td>\n",
       "      <td>9092.000000</td>\n",
       "      <td>9092.000000</td>\n",
       "      <td>9092.000000</td>\n",
       "      <td>...</td>\n",
       "      <td>9092.000000</td>\n",
       "      <td>9092.000000</td>\n",
       "      <td>9092.000000</td>\n",
       "      <td>9092.000000</td>\n",
       "      <td>9092.000000</td>\n",
       "      <td>9092.000000</td>\n",
       "      <td>9092.000000</td>\n",
       "      <td>9092.000000</td>\n",
       "      <td>9092.000000</td>\n",
       "      <td>9092.000000</td>\n",
       "    </tr>\n",
       "    <tr>\n",
       "      <th>mean</th>\n",
       "      <td>4584.995381</td>\n",
       "      <td>1.290805</td>\n",
       "      <td>0.231522</td>\n",
       "      <td>0.107887</td>\n",
       "      <td>0.583150</td>\n",
       "      <td>-0.043580</td>\n",
       "      <td>0.512868</td>\n",
       "      <td>0.064452</td>\n",
       "      <td>0.283836</td>\n",
       "      <td>0.500000</td>\n",
       "      <td>...</td>\n",
       "      <td>0.015178</td>\n",
       "      <td>0.140013</td>\n",
       "      <td>0.044435</td>\n",
       "      <td>0.036846</td>\n",
       "      <td>0.017268</td>\n",
       "      <td>0.315662</td>\n",
       "      <td>0.684338</td>\n",
       "      <td>0.429059</td>\n",
       "      <td>0.545535</td>\n",
       "      <td>0.025407</td>\n",
       "    </tr>\n",
       "    <tr>\n",
       "      <th>std</th>\n",
       "      <td>4079.802512</td>\n",
       "      <td>0.483942</td>\n",
       "      <td>0.559087</td>\n",
       "      <td>0.671022</td>\n",
       "      <td>1.182599</td>\n",
       "      <td>0.699312</td>\n",
       "      <td>0.499862</td>\n",
       "      <td>0.245570</td>\n",
       "      <td>0.579979</td>\n",
       "      <td>0.500027</td>\n",
       "      <td>...</td>\n",
       "      <td>0.122268</td>\n",
       "      <td>0.347020</td>\n",
       "      <td>0.206070</td>\n",
       "      <td>0.188393</td>\n",
       "      <td>0.130275</td>\n",
       "      <td>0.464805</td>\n",
       "      <td>0.464805</td>\n",
       "      <td>0.494969</td>\n",
       "      <td>0.497950</td>\n",
       "      <td>0.157366</td>\n",
       "    </tr>\n",
       "    <tr>\n",
       "      <th>min</th>\n",
       "      <td>31.000000</td>\n",
       "      <td>0.000000</td>\n",
       "      <td>0.000000</td>\n",
       "      <td>-1.690290</td>\n",
       "      <td>-2.000000</td>\n",
       "      <td>-1.378193</td>\n",
       "      <td>0.000000</td>\n",
       "      <td>0.000000</td>\n",
       "      <td>-0.760000</td>\n",
       "      <td>0.000000</td>\n",
       "      <td>...</td>\n",
       "      <td>0.000000</td>\n",
       "      <td>0.000000</td>\n",
       "      <td>0.000000</td>\n",
       "      <td>0.000000</td>\n",
       "      <td>0.000000</td>\n",
       "      <td>0.000000</td>\n",
       "      <td>0.000000</td>\n",
       "      <td>0.000000</td>\n",
       "      <td>0.000000</td>\n",
       "      <td>0.000000</td>\n",
       "    </tr>\n",
       "    <tr>\n",
       "      <th>25%</th>\n",
       "      <td>1234.000000</td>\n",
       "      <td>1.000000</td>\n",
       "      <td>0.000000</td>\n",
       "      <td>-0.436134</td>\n",
       "      <td>0.000000</td>\n",
       "      <td>-0.503161</td>\n",
       "      <td>0.000000</td>\n",
       "      <td>0.000000</td>\n",
       "      <td>-0.240000</td>\n",
       "      <td>0.000000</td>\n",
       "      <td>...</td>\n",
       "      <td>0.000000</td>\n",
       "      <td>0.000000</td>\n",
       "      <td>0.000000</td>\n",
       "      <td>0.000000</td>\n",
       "      <td>0.000000</td>\n",
       "      <td>0.000000</td>\n",
       "      <td>0.000000</td>\n",
       "      <td>0.000000</td>\n",
       "      <td>0.000000</td>\n",
       "      <td>0.000000</td>\n",
       "    </tr>\n",
       "    <tr>\n",
       "      <th>50%</th>\n",
       "      <td>2617.000000</td>\n",
       "      <td>1.000000</td>\n",
       "      <td>0.000000</td>\n",
       "      <td>0.000000</td>\n",
       "      <td>0.000000</td>\n",
       "      <td>0.000000</td>\n",
       "      <td>1.000000</td>\n",
       "      <td>0.000000</td>\n",
       "      <td>0.160000</td>\n",
       "      <td>0.500000</td>\n",
       "      <td>...</td>\n",
       "      <td>0.000000</td>\n",
       "      <td>0.000000</td>\n",
       "      <td>0.000000</td>\n",
       "      <td>0.000000</td>\n",
       "      <td>0.000000</td>\n",
       "      <td>0.000000</td>\n",
       "      <td>1.000000</td>\n",
       "      <td>0.000000</td>\n",
       "      <td>1.000000</td>\n",
       "      <td>0.000000</td>\n",
       "    </tr>\n",
       "    <tr>\n",
       "      <th>75%</th>\n",
       "      <td>6108.000000</td>\n",
       "      <td>2.000000</td>\n",
       "      <td>0.000000</td>\n",
       "      <td>0.476189</td>\n",
       "      <td>2.000000</td>\n",
       "      <td>0.496839</td>\n",
       "      <td>1.000000</td>\n",
       "      <td>0.000000</td>\n",
       "      <td>0.810000</td>\n",
       "      <td>1.000000</td>\n",
       "      <td>...</td>\n",
       "      <td>0.000000</td>\n",
       "      <td>0.000000</td>\n",
       "      <td>0.000000</td>\n",
       "      <td>0.000000</td>\n",
       "      <td>0.000000</td>\n",
       "      <td>1.000000</td>\n",
       "      <td>1.000000</td>\n",
       "      <td>1.000000</td>\n",
       "      <td>1.000000</td>\n",
       "      <td>0.000000</td>\n",
       "    </tr>\n",
       "    <tr>\n",
       "      <th>max</th>\n",
       "      <td>11497.000000</td>\n",
       "      <td>2.000000</td>\n",
       "      <td>7.000000</td>\n",
       "      <td>2.017907</td>\n",
       "      <td>2.000000</td>\n",
       "      <td>2.115994</td>\n",
       "      <td>1.000000</td>\n",
       "      <td>1.000000</td>\n",
       "      <td>1.560000</td>\n",
       "      <td>1.000000</td>\n",
       "      <td>...</td>\n",
       "      <td>1.000000</td>\n",
       "      <td>1.000000</td>\n",
       "      <td>1.000000</td>\n",
       "      <td>1.000000</td>\n",
       "      <td>1.000000</td>\n",
       "      <td>1.000000</td>\n",
       "      <td>1.000000</td>\n",
       "      <td>1.000000</td>\n",
       "      <td>1.000000</td>\n",
       "      <td>1.000000</td>\n",
       "    </tr>\n",
       "  </tbody>\n",
       "</table>\n",
       "<p>8 rows × 24 columns</p>\n",
       "</div>"
      ],
      "text/plain": [
       "             region    education  no_of_trainings          age  \\\n",
       "count   9092.000000  9092.000000      9092.000000  9092.000000   \n",
       "mean    4584.995381     1.290805         0.231522     0.107887   \n",
       "std     4079.802512     0.483942         0.559087     0.671022   \n",
       "min       31.000000     0.000000         0.000000    -1.690290   \n",
       "25%     1234.000000     1.000000         0.000000    -0.436134   \n",
       "50%     2617.000000     1.000000         0.000000     0.000000   \n",
       "75%     6108.000000     2.000000         0.000000     0.476189   \n",
       "max    11497.000000     2.000000         7.000000     2.017907   \n",
       "\n",
       "       previous_year_rating  length_of_service  KPIs_met >80%  awards_won?  \\\n",
       "count           9092.000000        9092.000000    9092.000000  9092.000000   \n",
       "mean               0.583150          -0.043580       0.512868     0.064452   \n",
       "std                1.182599           0.699312       0.499862     0.245570   \n",
       "min               -2.000000          -1.378193       0.000000     0.000000   \n",
       "25%                0.000000          -0.503161       0.000000     0.000000   \n",
       "50%                0.000000           0.000000       1.000000     0.000000   \n",
       "75%                2.000000           0.496839       1.000000     0.000000   \n",
       "max                2.000000           2.115994       1.000000     1.000000   \n",
       "\n",
       "       avg_training_score  is_promoted  ...  department_R&D  \\\n",
       "count         9092.000000  9092.000000  ...     9092.000000   \n",
       "mean             0.283836     0.500000  ...        0.015178   \n",
       "std              0.579979     0.500027  ...        0.122268   \n",
       "min             -0.760000     0.000000  ...        0.000000   \n",
       "25%             -0.240000     0.000000  ...        0.000000   \n",
       "50%              0.160000     0.500000  ...        0.000000   \n",
       "75%              0.810000     1.000000  ...        0.000000   \n",
       "max              1.560000     1.000000  ...        1.000000   \n",
       "\n",
       "       department_Procurement  department_Finance  department_HR  \\\n",
       "count             9092.000000         9092.000000    9092.000000   \n",
       "mean                 0.140013            0.044435       0.036846   \n",
       "std                  0.347020            0.206070       0.188393   \n",
       "min                  0.000000            0.000000       0.000000   \n",
       "25%                  0.000000            0.000000       0.000000   \n",
       "50%                  0.000000            0.000000       0.000000   \n",
       "75%                  0.000000            0.000000       0.000000   \n",
       "max                  1.000000            1.000000       1.000000   \n",
       "\n",
       "       department_Legal     gender_f     gender_m  \\\n",
       "count       9092.000000  9092.000000  9092.000000   \n",
       "mean           0.017268     0.315662     0.684338   \n",
       "std            0.130275     0.464805     0.464805   \n",
       "min            0.000000     0.000000     0.000000   \n",
       "25%            0.000000     0.000000     0.000000   \n",
       "50%            0.000000     0.000000     1.000000   \n",
       "75%            0.000000     1.000000     1.000000   \n",
       "max            1.000000     1.000000     1.000000   \n",
       "\n",
       "       recruitment_channel_sourcing  recruitment_channel_other  \\\n",
       "count                   9092.000000                9092.000000   \n",
       "mean                       0.429059                   0.545535   \n",
       "std                        0.494969                   0.497950   \n",
       "min                        0.000000                   0.000000   \n",
       "25%                        0.000000                   0.000000   \n",
       "50%                        0.000000                   1.000000   \n",
       "75%                        1.000000                   1.000000   \n",
       "max                        1.000000                   1.000000   \n",
       "\n",
       "       recruitment_channel_referred  \n",
       "count                   9092.000000  \n",
       "mean                       0.025407  \n",
       "std                        0.157366  \n",
       "min                        0.000000  \n",
       "25%                        0.000000  \n",
       "50%                        0.000000  \n",
       "75%                        0.000000  \n",
       "max                        1.000000  \n",
       "\n",
       "[8 rows x 24 columns]"
      ]
     },
     "execution_count": 7,
     "metadata": {},
     "output_type": "execute_result"
    }
   ],
   "source": [
    "df_hr.describe()"
   ]
  },
  {
   "cell_type": "code",
   "execution_count": 8,
   "metadata": {},
   "outputs": [
    {
     "data": {
      "text/plain": [
       "region                          0\n",
       "education                       0\n",
       "no_of_trainings                 0\n",
       "age                             0\n",
       "previous_year_rating            0\n",
       "length_of_service               0\n",
       "KPIs_met >80%                   0\n",
       "awards_won?                     0\n",
       "avg_training_score              0\n",
       "is_promoted                     0\n",
       "department_Sales & Marketing    0\n",
       "department_Operations           0\n",
       "department_Technology           0\n",
       "department_Analytics            0\n",
       "department_R&D                  0\n",
       "department_Procurement          0\n",
       "department_Finance              0\n",
       "department_HR                   0\n",
       "department_Legal                0\n",
       "gender_f                        0\n",
       "gender_m                        0\n",
       "recruitment_channel_sourcing    0\n",
       "recruitment_channel_other       0\n",
       "recruitment_channel_referred    0\n",
       "dtype: int64"
      ]
     },
     "execution_count": 8,
     "metadata": {},
     "output_type": "execute_result"
    }
   ],
   "source": [
    "df_hr.isnull().sum()"
   ]
  },
  {
   "cell_type": "code",
   "execution_count": 9,
   "metadata": {},
   "outputs": [
    {
     "data": {
      "text/plain": [
       "0    4546\n",
       "1    4546\n",
       "Name: is_promoted, dtype: int64"
      ]
     },
     "execution_count": 9,
     "metadata": {},
     "output_type": "execute_result"
    }
   ],
   "source": [
    "# inspect the target class distribution \n",
    "df_hr['is_promoted'].value_counts()"
   ]
  },
  {
   "cell_type": "markdown",
   "metadata": {},
   "source": [
    "### 1.1.1 Train and Test splits "
   ]
  },
  {
   "cell_type": "code",
   "execution_count": 10,
   "metadata": {},
   "outputs": [],
   "source": [
    "X = df_hr.drop(['is_promoted'], axis =1)\n",
    "y = df_hr['is_promoted']\n",
    "\n",
    "X_train, X_test, y_train, y_test = train_test_split(X, y, test_size=0.3, random_state=42)"
   ]
  },
  {
   "cell_type": "markdown",
   "metadata": {},
   "source": [
    "### 1.1.2 Feature Importances "
   ]
  },
  {
   "cell_type": "code",
   "execution_count": 10,
   "metadata": {},
   "outputs": [
    {
     "name": "stdout",
     "output_type": "stream",
     "text": [
      "Optimization terminated successfully.\n",
      "         Current function value: 0.429350\n",
      "         Iterations 7\n"
     ]
    }
   ],
   "source": [
    "# using logit - for classification \n",
    "lgsm = sm.Logit(y_train, X_train).fit()"
   ]
  },
  {
   "cell_type": "code",
   "execution_count": 11,
   "metadata": {},
   "outputs": [
    {
     "data": {
      "text/html": [
       "<table class=\"simpletable\">\n",
       "<caption>Logit Regression Results</caption>\n",
       "<tr>\n",
       "  <th>Dep. Variable:</th>      <td>is_promoted</td>   <th>  No. Observations:  </th>  <td>  6364</td> \n",
       "</tr>\n",
       "<tr>\n",
       "  <th>Model:</th>                 <td>Logit</td>      <th>  Df Residuals:      </th>  <td>  6343</td> \n",
       "</tr>\n",
       "<tr>\n",
       "  <th>Method:</th>                 <td>MLE</td>       <th>  Df Model:          </th>  <td>    20</td> \n",
       "</tr>\n",
       "<tr>\n",
       "  <th>Date:</th>            <td>Sun, 04 Feb 2024</td> <th>  Pseudo R-squ.:     </th>  <td>0.3806</td> \n",
       "</tr>\n",
       "<tr>\n",
       "  <th>Time:</th>                <td>19:51:58</td>     <th>  Log-Likelihood:    </th> <td> -2732.4</td>\n",
       "</tr>\n",
       "<tr>\n",
       "  <th>converged:</th>             <td>True</td>       <th>  LL-Null:           </th> <td> -4411.0</td>\n",
       "</tr>\n",
       "<tr>\n",
       "  <th>Covariance Type:</th>     <td>nonrobust</td>    <th>  LLR p-value:       </th>  <td> 0.000</td> \n",
       "</tr>\n",
       "</table>\n",
       "<table class=\"simpletable\">\n",
       "<tr>\n",
       "                <td></td>                  <th>coef</th>     <th>std err</th>      <th>z</th>      <th>P>|z|</th>  <th>[0.025</th>    <th>0.975]</th>  \n",
       "</tr>\n",
       "<tr>\n",
       "  <th>region</th>                       <td> 6.851e-06</td> <td> 8.88e-06</td> <td>    0.772</td> <td> 0.440</td> <td>-1.06e-05</td> <td> 2.43e-05</td>\n",
       "</tr>\n",
       "<tr>\n",
       "  <th>education</th>                    <td>    0.1445</td> <td>    0.079</td> <td>    1.818</td> <td> 0.069</td> <td>   -0.011</td> <td>    0.300</td>\n",
       "</tr>\n",
       "<tr>\n",
       "  <th>no_of_trainings</th>              <td>   -0.0403</td> <td>    0.062</td> <td>   -0.655</td> <td> 0.513</td> <td>   -0.161</td> <td>    0.080</td>\n",
       "</tr>\n",
       "<tr>\n",
       "  <th>age</th>                          <td>   -0.3805</td> <td>    0.073</td> <td>   -5.199</td> <td> 0.000</td> <td>   -0.524</td> <td>   -0.237</td>\n",
       "</tr>\n",
       "<tr>\n",
       "  <th>previous_year_rating</th>         <td>    0.2490</td> <td>    0.031</td> <td>    8.137</td> <td> 0.000</td> <td>    0.189</td> <td>    0.309</td>\n",
       "</tr>\n",
       "<tr>\n",
       "  <th>length_of_service</th>            <td>    0.1946</td> <td>    0.063</td> <td>    3.086</td> <td> 0.002</td> <td>    0.071</td> <td>    0.318</td>\n",
       "</tr>\n",
       "<tr>\n",
       "  <th>KPIs_met >80%</th>                <td>    2.6255</td> <td>    0.084</td> <td>   31.276</td> <td> 0.000</td> <td>    2.461</td> <td>    2.790</td>\n",
       "</tr>\n",
       "<tr>\n",
       "  <th>awards_won?</th>                  <td>    1.9333</td> <td>    0.210</td> <td>    9.198</td> <td> 0.000</td> <td>    1.521</td> <td>    2.345</td>\n",
       "</tr>\n",
       "<tr>\n",
       "  <th>avg_training_score</th>           <td>    7.2899</td> <td>    0.233</td> <td>   31.287</td> <td> 0.000</td> <td>    6.833</td> <td>    7.747</td>\n",
       "</tr>\n",
       "<tr>\n",
       "  <th>department_Sales & Marketing</th> <td>    4.2095</td> <td>      nan</td> <td>      nan</td> <td>   nan</td> <td>      nan</td> <td>      nan</td>\n",
       "</tr>\n",
       "<tr>\n",
       "  <th>department_Operations</th>        <td>    1.3355</td> <td>      nan</td> <td>      nan</td> <td>   nan</td> <td>      nan</td> <td>      nan</td>\n",
       "</tr>\n",
       "<tr>\n",
       "  <th>department_Technology</th>        <td>   -3.8352</td> <td>      nan</td> <td>      nan</td> <td>   nan</td> <td>      nan</td> <td>      nan</td>\n",
       "</tr>\n",
       "<tr>\n",
       "  <th>department_Analytics</th>         <td>   -5.3134</td> <td>      nan</td> <td>      nan</td> <td>   nan</td> <td>      nan</td> <td>      nan</td>\n",
       "</tr>\n",
       "<tr>\n",
       "  <th>department_R&D</th>               <td>   -5.6380</td> <td>      nan</td> <td>      nan</td> <td>   nan</td> <td>      nan</td> <td>      nan</td>\n",
       "</tr>\n",
       "<tr>\n",
       "  <th>department_Procurement</th>       <td>   -1.3390</td> <td>      nan</td> <td>      nan</td> <td>   nan</td> <td>      nan</td> <td>      nan</td>\n",
       "</tr>\n",
       "<tr>\n",
       "  <th>department_Finance</th>           <td>    1.3003</td> <td>      nan</td> <td>      nan</td> <td>   nan</td> <td>      nan</td> <td>      nan</td>\n",
       "</tr>\n",
       "<tr>\n",
       "  <th>department_HR</th>                <td>    3.7919</td> <td>      nan</td> <td>      nan</td> <td>   nan</td> <td>      nan</td> <td>      nan</td>\n",
       "</tr>\n",
       "<tr>\n",
       "  <th>department_Legal</th>             <td>    1.0080</td> <td>      nan</td> <td>      nan</td> <td>   nan</td> <td>      nan</td> <td>      nan</td>\n",
       "</tr>\n",
       "<tr>\n",
       "  <th>gender_f</th>                     <td>   -2.2522</td> <td>  1.2e+06</td> <td>-1.87e-06</td> <td> 1.000</td> <td>-2.36e+06</td> <td> 2.36e+06</td>\n",
       "</tr>\n",
       "<tr>\n",
       "  <th>gender_m</th>                     <td>   -2.2282</td> <td>  1.2e+06</td> <td>-1.85e-06</td> <td> 1.000</td> <td>-2.36e+06</td> <td> 2.36e+06</td>\n",
       "</tr>\n",
       "<tr>\n",
       "  <th>recruitment_channel_sourcing</th> <td>   -1.5920</td> <td>      nan</td> <td>      nan</td> <td>   nan</td> <td>      nan</td> <td>      nan</td>\n",
       "</tr>\n",
       "<tr>\n",
       "  <th>recruitment_channel_other</th>    <td>   -1.4742</td> <td>      nan</td> <td>      nan</td> <td>   nan</td> <td>      nan</td> <td>      nan</td>\n",
       "</tr>\n",
       "<tr>\n",
       "  <th>recruitment_channel_referred</th> <td>   -1.4141</td> <td>      nan</td> <td>      nan</td> <td>   nan</td> <td>      nan</td> <td>      nan</td>\n",
       "</tr>\n",
       "</table>"
      ],
      "text/plain": [
       "<class 'statsmodels.iolib.summary.Summary'>\n",
       "\"\"\"\n",
       "                           Logit Regression Results                           \n",
       "==============================================================================\n",
       "Dep. Variable:            is_promoted   No. Observations:                 6364\n",
       "Model:                          Logit   Df Residuals:                     6343\n",
       "Method:                           MLE   Df Model:                           20\n",
       "Date:                Sun, 04 Feb 2024   Pseudo R-squ.:                  0.3806\n",
       "Time:                        19:51:58   Log-Likelihood:                -2732.4\n",
       "converged:                       True   LL-Null:                       -4411.0\n",
       "Covariance Type:            nonrobust   LLR p-value:                     0.000\n",
       "================================================================================================\n",
       "                                   coef    std err          z      P>|z|      [0.025      0.975]\n",
       "------------------------------------------------------------------------------------------------\n",
       "region                        6.851e-06   8.88e-06      0.772      0.440   -1.06e-05    2.43e-05\n",
       "education                        0.1445      0.079      1.818      0.069      -0.011       0.300\n",
       "no_of_trainings                 -0.0403      0.062     -0.655      0.513      -0.161       0.080\n",
       "age                             -0.3805      0.073     -5.199      0.000      -0.524      -0.237\n",
       "previous_year_rating             0.2490      0.031      8.137      0.000       0.189       0.309\n",
       "length_of_service                0.1946      0.063      3.086      0.002       0.071       0.318\n",
       "KPIs_met >80%                    2.6255      0.084     31.276      0.000       2.461       2.790\n",
       "awards_won?                      1.9333      0.210      9.198      0.000       1.521       2.345\n",
       "avg_training_score               7.2899      0.233     31.287      0.000       6.833       7.747\n",
       "department_Sales & Marketing     4.2095        nan        nan        nan         nan         nan\n",
       "department_Operations            1.3355        nan        nan        nan         nan         nan\n",
       "department_Technology           -3.8352        nan        nan        nan         nan         nan\n",
       "department_Analytics            -5.3134        nan        nan        nan         nan         nan\n",
       "department_R&D                  -5.6380        nan        nan        nan         nan         nan\n",
       "department_Procurement          -1.3390        nan        nan        nan         nan         nan\n",
       "department_Finance               1.3003        nan        nan        nan         nan         nan\n",
       "department_HR                    3.7919        nan        nan        nan         nan         nan\n",
       "department_Legal                 1.0080        nan        nan        nan         nan         nan\n",
       "gender_f                        -2.2522    1.2e+06  -1.87e-06      1.000   -2.36e+06    2.36e+06\n",
       "gender_m                        -2.2282    1.2e+06  -1.85e-06      1.000   -2.36e+06    2.36e+06\n",
       "recruitment_channel_sourcing    -1.5920        nan        nan        nan         nan         nan\n",
       "recruitment_channel_other       -1.4742        nan        nan        nan         nan         nan\n",
       "recruitment_channel_referred    -1.4141        nan        nan        nan         nan         nan\n",
       "================================================================================================\n",
       "\"\"\""
      ]
     },
     "execution_count": 11,
     "metadata": {},
     "output_type": "execute_result"
    }
   ],
   "source": [
    "lgsm.summary()"
   ]
  },
  {
   "cell_type": "markdown",
   "metadata": {},
   "source": [
    "### 1.1.3 Scaling"
   ]
  },
  {
   "cell_type": "code",
   "execution_count": 12,
   "metadata": {},
   "outputs": [],
   "source": [
    "def print_variable_scale(dataframe, variable_name):\n",
    "    if variable_name not in dataframe.columns:\n",
    "        print(f\"Variable '{variable_name}' not found in the DataFrame.\")\n",
    "        return\n",
    "\n",
    "    variable_data = dataframe[variable_name]\n",
    "\n",
    "    variable_range = variable_data.max() - variable_data.min()\n",
    "\n",
    "    print(f\"{variable_name} : {variable_range}\")"
   ]
  },
  {
   "cell_type": "code",
   "execution_count": 13,
   "metadata": {},
   "outputs": [
    {
     "name": "stdout",
     "output_type": "stream",
     "text": [
      "region : 11466\n",
      "education : 2\n",
      "no_of_trainings : 7.0\n",
      "age : 3.7081979384931767\n",
      "previous_year_rating : 4.0\n",
      "length_of_service : 3.49418744314342\n",
      "KPIs_met >80% : 1\n",
      "awards_won? : 1\n",
      "avg_training_score : 2.3200000000000003\n",
      "department_Sales & Marketing : 1\n",
      "department_Operations : 1\n",
      "department_Technology : 1\n",
      "department_Analytics : 1\n",
      "department_R&D : 1\n",
      "department_Procurement : 1\n",
      "department_Finance : 1\n",
      "department_HR : 1\n",
      "department_Legal : 1\n",
      "gender_f : 1\n",
      "gender_m : 1\n",
      "recruitment_channel_sourcing : 1\n",
      "recruitment_channel_other : 1\n",
      "recruitment_channel_referred : 1\n"
     ]
    }
   ],
   "source": [
    "for n in X_train.columns : \n",
    "    print_variable_scale(X_train,n)\n",
    "    \n",
    "# does this mean i need to scale everything? "
   ]
  },
  {
   "cell_type": "markdown",
   "metadata": {},
   "source": [
    "### 1.2 Build the Model(s)"
   ]
  },
  {
   "cell_type": "code",
   "execution_count": 14,
   "metadata": {},
   "outputs": [],
   "source": [
    "models = []\n",
    "\n",
    "model_names = []"
   ]
  },
  {
   "cell_type": "code",
   "execution_count": 15,
   "metadata": {},
   "outputs": [
    {
     "name": "stderr",
     "output_type": "stream",
     "text": [
      "C:\\Users\\ASUS\\anaconda3\\lib\\site-packages\\sklearn\\linear_model\\_logistic.py:814: ConvergenceWarning: lbfgs failed to converge (status=1):\n",
      "STOP: TOTAL NO. of ITERATIONS REACHED LIMIT.\n",
      "\n",
      "Increase the number of iterations (max_iter) or scale the data as shown in:\n",
      "    https://scikit-learn.org/stable/modules/preprocessing.html\n",
      "Please also refer to the documentation for alternative solver options:\n",
      "    https://scikit-learn.org/stable/modules/linear_model.html#logistic-regression\n",
      "  n_iter_i = _check_optimize_result(\n"
     ]
    }
   ],
   "source": [
    "# no hyperparams except random state for consistency in results \n",
    "lg = LogisticRegression(random_state=42).fit(X_train, y_train)\n",
    "\n",
    "models.append(lg)\n",
    "model_names.append(\"Logistic Regression\")"
   ]
  },
  {
   "cell_type": "code",
   "execution_count": 16,
   "metadata": {},
   "outputs": [],
   "source": [
    "# decision tree classifier \n",
    "dtree = DecisionTreeClassifier(random_state=42).fit(X_train,y_train)\n",
    "\n",
    "models.append(dtree)\n",
    "model_names.append(\"Decision Tree\")"
   ]
  },
  {
   "cell_type": "code",
   "execution_count": 17,
   "metadata": {},
   "outputs": [],
   "source": [
    "# random forest classifier \n",
    "rf = RandomForestClassifier(random_state=42).fit(X_train,y_train)\n",
    "\n",
    "models.append(rf)\n",
    "model_names.append(\"Random Forest\")"
   ]
  },
  {
   "cell_type": "code",
   "execution_count": 18,
   "metadata": {},
   "outputs": [],
   "source": [
    "# support vector machine \n",
    "svc = SVC(random_state = 42).fit(X_train,y_train)\n",
    "\n",
    "models.append(svc)\n",
    "model_names.append(\"SVC\")"
   ]
  },
  {
   "cell_type": "code",
   "execution_count": 19,
   "metadata": {},
   "outputs": [],
   "source": [
    "# multi layer perceptron\n",
    "mlp = MLPClassifier(random_state = 42).fit(X_train, y_train)\n",
    "\n",
    "models.append(mlp)\n",
    "model_names.append(\"Multi Layer Perceptron\")"
   ]
  },
  {
   "cell_type": "code",
   "execution_count": 20,
   "metadata": {},
   "outputs": [],
   "source": [
    "# adaptive boosting\n",
    "ada = AdaBoostClassifier(random_state = 42).fit(X_train,y_train)\n",
    "\n",
    "models.append(ada)\n",
    "model_names.append(\"ADA\")"
   ]
  },
  {
   "cell_type": "code",
   "execution_count": 21,
   "metadata": {},
   "outputs": [],
   "source": [
    "# extreme gradient boosting \n",
    "xgb = XGBClassifier(random_state = 42).fit(X_train, y_train)\n",
    "\n",
    "models.append(xgb)\n",
    "model_names.append(\"XGB\")"
   ]
  },
  {
   "cell_type": "markdown",
   "metadata": {},
   "source": [
    "### 1.2.1 Consolidated View of Model Scores"
   ]
  },
  {
   "cell_type": "code",
   "execution_count": 22,
   "metadata": {},
   "outputs": [
    {
     "data": {
      "text/html": [
       "<div>\n",
       "<style scoped>\n",
       "    .dataframe tbody tr th:only-of-type {\n",
       "        vertical-align: middle;\n",
       "    }\n",
       "\n",
       "    .dataframe tbody tr th {\n",
       "        vertical-align: top;\n",
       "    }\n",
       "\n",
       "    .dataframe thead th {\n",
       "        text-align: right;\n",
       "    }\n",
       "</style>\n",
       "<table border=\"1\" class=\"dataframe\">\n",
       "  <thead>\n",
       "    <tr style=\"text-align: right;\">\n",
       "      <th></th>\n",
       "      <th>Model</th>\n",
       "      <th>Train Score</th>\n",
       "      <th>Test Score</th>\n",
       "    </tr>\n",
       "  </thead>\n",
       "  <tbody>\n",
       "    <tr>\n",
       "      <th>0</th>\n",
       "      <td>Logistic Regression</td>\n",
       "      <td>0.728787</td>\n",
       "      <td>0.720674</td>\n",
       "    </tr>\n",
       "    <tr>\n",
       "      <th>1</th>\n",
       "      <td>Decision Tree</td>\n",
       "      <td>1.000000</td>\n",
       "      <td>0.749267</td>\n",
       "    </tr>\n",
       "    <tr>\n",
       "      <th>2</th>\n",
       "      <td>Random Forest</td>\n",
       "      <td>1.000000</td>\n",
       "      <td>0.793622</td>\n",
       "    </tr>\n",
       "    <tr>\n",
       "      <th>3</th>\n",
       "      <td>SVC</td>\n",
       "      <td>0.533941</td>\n",
       "      <td>0.537023</td>\n",
       "    </tr>\n",
       "    <tr>\n",
       "      <th>4</th>\n",
       "      <td>Multi Layer Perceptron</td>\n",
       "      <td>0.663891</td>\n",
       "      <td>0.668622</td>\n",
       "    </tr>\n",
       "    <tr>\n",
       "      <th>5</th>\n",
       "      <td>ADA</td>\n",
       "      <td>0.782055</td>\n",
       "      <td>0.769428</td>\n",
       "    </tr>\n",
       "    <tr>\n",
       "      <th>6</th>\n",
       "      <td>XGB</td>\n",
       "      <td>0.933532</td>\n",
       "      <td>0.799487</td>\n",
       "    </tr>\n",
       "  </tbody>\n",
       "</table>\n",
       "</div>"
      ],
      "text/plain": [
       "                    Model  Train Score  Test Score\n",
       "0     Logistic Regression     0.728787    0.720674\n",
       "1           Decision Tree     1.000000    0.749267\n",
       "2           Random Forest     1.000000    0.793622\n",
       "3                     SVC     0.533941    0.537023\n",
       "4  Multi Layer Perceptron     0.663891    0.668622\n",
       "5                     ADA     0.782055    0.769428\n",
       "6                     XGB     0.933532    0.799487"
      ]
     },
     "execution_count": 22,
     "metadata": {},
     "output_type": "execute_result"
    }
   ],
   "source": [
    "scores_table = []\n",
    "for model, name in zip(models, model_names):\n",
    "    train_score = model.score(X_train, y_train)\n",
    "    test_score = model.score(X_test, y_test)\n",
    "    scores_table.append([name, train_score, test_score])\n",
    "\n",
    "df_scores = pd.DataFrame(scores_table, columns=[\"Model\", \"Train Score\", \"Test Score\"])\n",
    "\n",
    "df_scores"
   ]
  },
  {
   "cell_type": "markdown",
   "metadata": {},
   "source": [
    "### 1.3 Evaluate and Improve the Model(s)\n",
    "These models will be chosen for further evaluation and tuning  : <mark>Random Forest Classifier</mark>, <mark>Multi Layer Perceptron (Artificial Neural Network)</mark>,<mark>ADA Boost (Ensemble Model)</mark>."
   ]
  },
  {
   "cell_type": "code",
   "execution_count": 23,
   "metadata": {},
   "outputs": [],
   "source": [
    "def model_scores_classification(model):\n",
    "    print(f\"Model: {model}\")\n",
    "    \n",
    "    train_pred = model.predict(X_train)\n",
    "    print(f'\\nTraining score: {model.score(X_train, y_train)}')\n",
    "\n",
    "    test_pred = model.predict(X_test)\n",
    "    print(f'Testing score: {model.score(X_test, y_test)}')\n",
    "    \n",
    "    # Training scores and report\n",
    "    train_pred = model.predict(X_train)\n",
    "    print('\\nTraining report:')\n",
    "    print(classification_report(y_train, train_pred))\n",
    "\n",
    "    # Testing scores and report\n",
    "    test_pred = model.predict(X_test)\n",
    "    print('\\nTesting report:')\n",
    "    print(classification_report(y_test, test_pred))\n",
    "\n",
    "    # Confusion matrix for training\n",
    "    print('\\nConfusion Matrix:')\n",
    "    train_cm = confusion_matrix(y_train, train_pred)\n",
    "    plt.figure(figsize=(12, 6))\n",
    "\n",
    "    plt.subplot(1, 2, 1)\n",
    "    sns.heatmap(train_cm, annot=True, fmt='d', cmap='Blues', cbar=False,\n",
    "                xticklabels=model.classes_, yticklabels=model.classes_)\n",
    "    plt.xlabel('Predicted')\n",
    "    plt.ylabel('Actual')\n",
    "    plt.title('Confusion Matrix - Training')\n",
    "\n",
    "    # Confusion matrix for testing\n",
    "    plt.subplot(1, 2, 2)\n",
    "    test_cm = confusion_matrix(y_test, test_pred)\n",
    "    sns.heatmap(test_cm, annot=True, fmt='d', cmap='Blues', cbar=False,\n",
    "                xticklabels=model.classes_, yticklabels=model.classes_)\n",
    "    plt.xlabel('Predicted')\n",
    "    plt.ylabel('Actual')\n",
    "    plt.title('Confusion Matrix - Testing')\n",
    "\n",
    "    plt.tight_layout()\n",
    "    plt.show()"
   ]
  },
  {
   "cell_type": "markdown",
   "metadata": {},
   "source": [
    "### 1.3.1 Model 1 (random forest classifier) "
   ]
  },
  {
   "cell_type": "code",
   "execution_count": 24,
   "metadata": {},
   "outputs": [
    {
     "name": "stdout",
     "output_type": "stream",
     "text": [
      "Model: RandomForestClassifier(random_state=42)\n",
      "\n",
      "Training score: 1.0\n",
      "Testing score: 0.7936217008797654\n",
      "\n",
      "Training report:\n",
      "              precision    recall  f1-score   support\n",
      "\n",
      "           0       1.00      1.00      1.00      3157\n",
      "           1       1.00      1.00      1.00      3207\n",
      "\n",
      "    accuracy                           1.00      6364\n",
      "   macro avg       1.00      1.00      1.00      6364\n",
      "weighted avg       1.00      1.00      1.00      6364\n",
      "\n",
      "\n",
      "Testing report:\n",
      "              precision    recall  f1-score   support\n",
      "\n",
      "           0       0.85      0.72      0.78      1389\n",
      "           1       0.75      0.87      0.80      1339\n",
      "\n",
      "    accuracy                           0.79      2728\n",
      "   macro avg       0.80      0.79      0.79      2728\n",
      "weighted avg       0.80      0.79      0.79      2728\n",
      "\n",
      "\n",
      "Confusion Matrix:\n"
     ]
    },
    {
     "data": {
      "image/png": "[encoded data removed]",
      "text/plain": [
       "<Figure size 864x432 with 2 Axes>"
      ]
     },
     "metadata": {
      "needs_background": "light"
     },
     "output_type": "display_data"
    }
   ],
   "source": [
    "model_scores_classification(rf)"
   ]
  },
  {
   "cell_type": "markdown",
   "metadata": {},
   "source": [
    "##### comments \n",
    "- the model scores are very overfitted which need to be tuned\n",
    "- high variance and low bias, the model is performing well on training set but not as good on training set, meaning it is putting in close attention to the train set\n",
    "- it is this way due to the 'nature' of random forest"
   ]
  },
  {
   "cell_type": "markdown",
   "metadata": {},
   "source": [
    "### 1.3.1.1 Hyperparameter Inspection\n",
    "##### hyperparams to be tweaked or that can be tweaked \n",
    "- <mark>n_estimators</mark> : number of trees\n",
    "- <mark>criterion</mark> : quality of split\n",
    "- <mark>max_depth</mark> : depth of tree, if there are too many details it might lead to overfitting? affected by:min_samples_split samples\n",
    "- <mark>min_samples_split</mark> : number of samples required to split an internal node \n",
    "- <mark>min_samples_leaf</mark> : number of samples required to become a leaf? makes model more generalised (add later on?) \n",
    "- <mark>max_features</mark> : number of features to consider for a best split "
   ]
  },
  {
   "cell_type": "markdown",
   "metadata": {},
   "source": [
    "### 1.3.1.1 (a)  n_estimators"
   ]
  },
  {
   "cell_type": "markdown",
   "metadata": {},
   "source": [
    "##### n_estimators vs. train and test scores  (range : 100-1000)"
   ]
  },
  {
   "cell_type": "code",
   "execution_count": 25,
   "metadata": {},
   "outputs": [
    {
     "data": {
      "image/png": "[encoded data removed]",
      "text/plain": [
       "<Figure size 720x432 with 1 Axes>"
      ]
     },
     "metadata": {
      "needs_background": "light"
     },
     "output_type": "display_data"
    }
   ],
   "source": [
    "n_estimators_values = np.arange(100,1100,100)\n",
    "\n",
    "# Initialize lists to store training and test scores\n",
    "train_scores = []\n",
    "test_scores = []\n",
    "\n",
    "# Iterate over different n_estimators values\n",
    "for n_estimators in n_estimators_values:\n",
    "    # Create and fit the Random Forest Classifier\n",
    "    clf = RandomForestClassifier(n_estimators=n_estimators, random_state=42)\n",
    "    clf.fit(X_train, y_train)\n",
    "\n",
    "    # Make predictions on training and testing sets\n",
    "    y_train_pred = clf.predict(X_train)\n",
    "    y_test_pred = clf.predict(X_test)\n",
    "\n",
    "    # Calculate accuracy scores and store them\n",
    "    train_accuracy = accuracy_score(y_train, y_train_pred)\n",
    "    test_accuracy = accuracy_score(y_test, y_test_pred)\n",
    "\n",
    "    train_scores.append(train_accuracy)\n",
    "    test_scores.append(test_accuracy)\n",
    "\n",
    "# Plotting the results\n",
    "plt.figure(figsize=(10, 6))\n",
    "plt.plot(n_estimators_values, train_scores, label='Train Accuracy', marker='o')\n",
    "plt.plot(n_estimators_values, test_scores, label='Test Accuracy', marker='o')\n",
    "plt.title('Random Forest Classifier: Training and Test Scores vs. n_estimators')\n",
    "plt.xlabel('Number of Estimators (n_estimators)')\n",
    "plt.ylabel('Accuracy')\n",
    "plt.legend()\n",
    "plt.show()"
   ]
  },
  {
   "cell_type": "code",
   "execution_count": null,
   "metadata": {},
   "outputs": [],
   "source": [
    "import numpy as np\n",
    "import matplotlib.pyplot as plt\n",
    "from sklearn.model_selection import cross_val_score\n",
    "from sklearn.ensemble import RandomForestClassifier\n",
    "\n",
    "# Generate some sample data or load your own dataset\n",
    "# X, y = ...\n",
    "\n",
    "# Specify the range of max_depth values to be tested\n",
    "max_depth_values = np.arange(1,100, 1)\n",
    "\n",
    "# Initialize empty lists to store the mean cross-validation scores\n",
    "train_scores = []\n",
    "test_scores = []\n",
    "\n",
    "# Loop through different max_depth values\n",
    "for max_depth in max_depth_values:\n",
    "    # Create a Random Forest Classifier with the current max_depth\n",
    "    clf = RandomForestClassifier(max_depth=max_depth, random_state=42)\n",
    "\n",
    "    # Compute cross-validation scores for training and testing sets\n",
    "    train_score = cross_val_score(clf, X, y, cv=5, scoring='accuracy').mean()\n",
    "    test_score = cross_val_score(clf, X, y, cv=5, scoring='accuracy').mean()\n",
    "\n",
    "    # Append the scores to the lists\n",
    "    train_scores.append(train_score)\n",
    "    test_scores.append(test_score)\n",
    "\n",
    "# Plotting the results\n",
    "plt.figure(figsize=(10, 6))\n",
    "plt.plot(max_depth_values, train_scores, label='Train Score', marker='o')\n",
    "plt.plot(max_depth_values, test_scores, label='Test Score', marker='o')\n",
    "plt.xlabel('Max Depth')\n",
    "plt.ylabel('Accuracy Score')\n",
    "plt.title('Random Forest Classifier Cross-Validation Scores vs. Max Depth')\n",
    "plt.legend()\n",
    "plt.grid(True)\n",
    "plt.show()"
   ]
  },
  {
   "cell_type": "markdown",
   "metadata": {},
   "source": [
    "### 1.3.1.1 (b) max_depth "
   ]
  },
  {
   "cell_type": "markdown",
   "metadata": {},
   "source": [
    "##### max depth vs accuracy (range: 2-20), we start lower "
   ]
  },
  {
   "cell_type": "code",
   "execution_count": 26,
   "metadata": {},
   "outputs": [
    {
     "data": {
      "image/png": "[encoded data removed]",
      "text/plain": [
       "<Figure size 432x288 with 1 Axes>"
      ]
     },
     "metadata": {
      "needs_background": "light"
     },
     "output_type": "display_data"
    }
   ],
   "source": [
    "max_depths = np.arange(2, 21,1)\n",
    "\n",
    "# Initialize lists to store training and testing accuracies\n",
    "train_accuracies = []\n",
    "test_accuracies = []\n",
    "\n",
    "# Loop through different max_depth values\n",
    "for max_depth in max_depths:\n",
    "    # Create and train the Random Forest classifier\n",
    "    rf_classifier = RandomForestClassifier(max_depth=max_depth, random_state=42)\n",
    "    rf_classifier.fit(X_train, y_train)\n",
    "    \n",
    "    # Predict on the training and testing sets\n",
    "    y_train_pred = rf_classifier.predict(X_train)\n",
    "    y_test_pred = rf_classifier.predict(X_test)\n",
    "    \n",
    "    # Calculate accuracies\n",
    "    train_accuracy = accuracy_score(y_train, y_train_pred)\n",
    "    test_accuracy = accuracy_score(y_test, y_test_pred)\n",
    "    \n",
    "    # Append accuracies to the lists\n",
    "    train_accuracies.append(train_accuracy)\n",
    "    test_accuracies.append(test_accuracy)\n",
    "\n",
    "# Plot the results\n",
    "plt.plot(max_depths, train_accuracies, label='Training Accuracy')\n",
    "plt.plot(max_depths, test_accuracies, label='Testing Accuracy')\n",
    "plt.xlabel('Max Depth')\n",
    "plt.ylabel('Accuracy')\n",
    "plt.title('Max Depth vs Accuracy for Random Forest Classifier')\n",
    "plt.legend()\n",
    "plt.show()"
   ]
  },
  {
   "cell_type": "code",
   "execution_count": 27,
   "metadata": {},
   "outputs": [
    {
     "data": {
      "image/png": "[encoded data removed]",
      "text/plain": [
       "<Figure size 432x288 with 1 Axes>"
      ]
     },
     "metadata": {
      "needs_background": "light"
     },
     "output_type": "display_data"
    }
   ],
   "source": [
    "max_depths = np.arange(10, 100,10)\n",
    "\n",
    "# Initialize lists to store training and testing accuracies\n",
    "train_accuracies = []\n",
    "test_accuracies = []\n",
    "\n",
    "# Loop through different max_depth values\n",
    "for max_depth in max_depths:\n",
    "    # Create and train the Random Forest classifier\n",
    "    rf_classifier = RandomForestClassifier(max_depth=max_depth, random_state=42)\n",
    "    rf_classifier.fit(X_train, y_train)\n",
    "    \n",
    "    # Predict on the training and testing sets\n",
    "    y_train_pred = rf_classifier.predict(X_train)\n",
    "    y_test_pred = rf_classifier.predict(X_test)\n",
    "    \n",
    "    # Calculate accuracies\n",
    "    train_accuracy = accuracy_score(y_train, y_train_pred)\n",
    "    test_accuracy = accuracy_score(y_test, y_test_pred)\n",
    "    \n",
    "    # Append accuracies to the lists\n",
    "    train_accuracies.append(train_accuracy)\n",
    "    test_accuracies.append(test_accuracy)\n",
    "\n",
    "# Plot the results\n",
    "plt.plot(max_depths, train_accuracies, label='Training Accuracy')\n",
    "plt.plot(max_depths, test_accuracies, label='Testing Accuracy')\n",
    "plt.xlabel('Max Depth')\n",
    "plt.ylabel('Accuracy')\n",
    "plt.title('Max Depth vs Accuracy for Random Forest Classifier')\n",
    "plt.legend()\n",
    "plt.show()"
   ]
  },
  {
   "cell_type": "markdown",
   "metadata": {},
   "source": [
    "### 1.3.1.1 (c) min_samples_split"
   ]
  },
  {
   "cell_type": "markdown",
   "metadata": {},
   "source": [
    "##### min samples vs accuracy (range: 2-100), start from default "
   ]
  },
  {
   "cell_type": "code",
   "execution_count": 28,
   "metadata": {},
   "outputs": [
    {
     "data": {
      "image/png": "[encoded data removed]",
      "text/plain": [
       "<Figure size 432x288 with 1 Axes>"
      ]
     },
     "metadata": {
      "needs_background": "light"
     },
     "output_type": "display_data"
    }
   ],
   "source": [
    "min_samples_splits = np.arange(2, 100, 1)\n",
    "\n",
    "# Initialize lists to store training and testing accuracies\n",
    "train_accuracies = []\n",
    "test_accuracies = []\n",
    "\n",
    "# Loop through different min_samples_split values\n",
    "for min_samples_split in min_samples_splits:\n",
    "    # Create and train the Random Forest classifier\n",
    "    rf_classifier = RandomForestClassifier(min_samples_split=min_samples_split, random_state=42)\n",
    "    rf_classifier.fit(X_train, y_train)\n",
    "    \n",
    "    # Predict on the training and testing sets\n",
    "    y_train_pred = rf_classifier.predict(X_train)\n",
    "    y_test_pred = rf_classifier.predict(X_test)\n",
    "    \n",
    "    # Calculate accuracies\n",
    "    train_accuracy = accuracy_score(y_train, y_train_pred)\n",
    "    test_accuracy = accuracy_score(y_test, y_test_pred)\n",
    "    \n",
    "    # Append accuracies to the lists\n",
    "    train_accuracies.append(train_accuracy)\n",
    "    test_accuracies.append(test_accuracy)\n",
    "\n",
    "# Plot the results\n",
    "plt.plot(min_samples_splits, train_accuracies, label='Training Accuracy')\n",
    "plt.plot(min_samples_splits, test_accuracies, label='Testing Accuracy')\n",
    "plt.xlabel('Min Samples Split')\n",
    "plt.ylabel('Accuracy')\n",
    "plt.title('Min Samples Split vs Accuracy for Random Forest Classifier')\n",
    "plt.legend()\n",
    "plt.show()\n",
    "\n",
    "# overfitting gets reduced, but test scores typically dont increase\n",
    "# reduced overfitting but it compromises train scores"
   ]
  },
  {
   "cell_type": "markdown",
   "metadata": {},
   "source": [
    "##### min samples vs accuracy (range: 100-1000), see higher to see effect"
   ]
  },
  {
   "cell_type": "code",
   "execution_count": 29,
   "metadata": {},
   "outputs": [
    {
     "data": {
      "image/png": "[encoded data removed]",
      "text/plain": [
       "<Figure size 432x288 with 1 Axes>"
      ]
     },
     "metadata": {
      "needs_background": "light"
     },
     "output_type": "display_data"
    }
   ],
   "source": [
    "min_samples_splits = np.arange(100, 1100, 100)\n",
    "\n",
    "# Initialize lists to store training and testing accuracies\n",
    "train_accuracies = []\n",
    "test_accuracies = []\n",
    "\n",
    "# Loop through different min_samples_split values\n",
    "for min_samples_split in min_samples_splits:\n",
    "    # Create and train the Random Forest classifier\n",
    "    rf_classifier = RandomForestClassifier(min_samples_split=min_samples_split, random_state=42)\n",
    "    rf_classifier.fit(X_train, y_train)\n",
    "    \n",
    "    # Predict on the training and testing sets\n",
    "    y_train_pred = rf_classifier.predict(X_train)\n",
    "    y_test_pred = rf_classifier.predict(X_test)\n",
    "    \n",
    "    # Calculate accuracies\n",
    "    train_accuracy = accuracy_score(y_train, y_train_pred)\n",
    "    test_accuracy = accuracy_score(y_test, y_test_pred)\n",
    "    \n",
    "    # Append accuracies to the lists\n",
    "    train_accuracies.append(train_accuracy)\n",
    "    test_accuracies.append(test_accuracy)\n",
    "\n",
    "# Plot the results\n",
    "plt.plot(min_samples_splits, train_accuracies, label='Training Accuracy')\n",
    "plt.plot(min_samples_splits, test_accuracies, label='Testing Accuracy')\n",
    "plt.xlabel('Min Samples Split')\n",
    "plt.ylabel('Accuracy')\n",
    "plt.title('Min Samples Split vs Accuracy for Random Forest Classifier')\n",
    "plt.legend()\n",
    "plt.show()\n",
    "\n",
    "# too many samples makes the model become worse"
   ]
  },
  {
   "cell_type": "markdown",
   "metadata": {},
   "source": [
    "### 1.3.1.1 (d) min_samples_leaf "
   ]
  },
  {
   "cell_type": "markdown",
   "metadata": {},
   "source": [
    "##### min samples leaf vs accuracy (range: 2-20), start from default"
   ]
  },
  {
   "cell_type": "code",
   "execution_count": 30,
   "metadata": {},
   "outputs": [
    {
     "data": {
      "image/png": "[encoded data removed]",
      "text/plain": [
       "<Figure size 432x288 with 1 Axes>"
      ]
     },
     "metadata": {
      "needs_background": "light"
     },
     "output_type": "display_data"
    }
   ],
   "source": [
    "min_samples_leafs = np.arange(1, 21, 1)\n",
    "\n",
    "# Initialize lists to store training and testing accuracies\n",
    "train_accuracies = []\n",
    "test_accuracies = []\n",
    "\n",
    "# Loop through different min_samples_leaf values\n",
    "for min_samples_leaf in min_samples_leafs:\n",
    "    # Create and train the Random Forest classifier\n",
    "    rf_classifier = RandomForestClassifier(min_samples_leaf=min_samples_leaf, random_state=42)\n",
    "    rf_classifier.fit(X_train, y_train)\n",
    "    \n",
    "    # Predict on the training and testing sets\n",
    "    y_train_pred = rf_classifier.predict(X_train)\n",
    "    y_test_pred = rf_classifier.predict(X_test)\n",
    "    \n",
    "    # Calculate accuracies\n",
    "    train_accuracy = accuracy_score(y_train, y_train_pred)\n",
    "    test_accuracy = accuracy_score(y_test, y_test_pred)\n",
    "    \n",
    "    # Append accuracies to the lists\n",
    "    train_accuracies.append(train_accuracy)\n",
    "    test_accuracies.append(test_accuracy)\n",
    "\n",
    "# Plot the results\n",
    "plt.plot(min_samples_leafs, train_accuracies, label='Training Accuracy')\n",
    "plt.plot(min_samples_leafs, test_accuracies, label='Testing Accuracy')\n",
    "plt.xlabel('Min Samples Leaf')\n",
    "plt.ylabel('Accuracy')\n",
    "plt.title('Min Samples Leaf vs Accuracy for Random Forest Classifier')\n",
    "plt.legend()\n",
    "plt.show()\n",
    "\n",
    "# doing so reduces overfitting"
   ]
  },
  {
   "cell_type": "markdown",
   "metadata": {},
   "source": [
    "### 1.3.1.2 Optimizing Hyperparameters"
   ]
  },
  {
   "cell_type": "markdown",
   "metadata": {},
   "source": [
    "### 1.3.1.2 (a) GridSearchCV "
   ]
  },
  {
   "cell_type": "code",
   "execution_count": 42,
   "metadata": {},
   "outputs": [],
   "source": [
    "param_grid = {'criterion' : ['gini','entropy'],\n",
    "              'n_estimators' : [400],\n",
    "              'max_depth' : [10],\n",
    "              'min_samples_split' : [100],\n",
    "              'min_samples_leaf': [20]}"
   ]
  },
  {
   "cell_type": "code",
   "execution_count": 43,
   "metadata": {},
   "outputs": [
    {
     "name": "stdout",
     "output_type": "stream",
     "text": [
      "Fitting 5 folds for each of 3 candidates, totalling 15 fits\n",
      "[CV 1/5] END criterion=gini, max_depth=10, min_samples_leaf=20, min_samples_split=100, n_estimators=400;, score=0.775 total time=   1.3s\n",
      "[CV 2/5] END criterion=gini, max_depth=10, min_samples_leaf=20, min_samples_split=100, n_estimators=400;, score=0.792 total time=   1.3s\n",
      "[CV 3/5] END criterion=gini, max_depth=10, min_samples_leaf=20, min_samples_split=100, n_estimators=400;, score=0.782 total time=   1.3s\n",
      "[CV 4/5] END criterion=gini, max_depth=10, min_samples_leaf=20, min_samples_split=100, n_estimators=400;, score=0.779 total time=   1.2s\n",
      "[CV 5/5] END criterion=gini, max_depth=10, min_samples_leaf=20, min_samples_split=100, n_estimators=400;, score=0.786 total time=   1.3s\n",
      "[CV 1/5] END criterion=entropy, max_depth=10, min_samples_leaf=20, min_samples_split=100, n_estimators=400;, score=0.774 total time=   1.4s\n",
      "[CV 2/5] END criterion=entropy, max_depth=10, min_samples_leaf=20, min_samples_split=100, n_estimators=400;, score=0.790 total time=   1.4s\n",
      "[CV 3/5] END criterion=entropy, max_depth=10, min_samples_leaf=20, min_samples_split=100, n_estimators=400;, score=0.776 total time=   1.4s\n",
      "[CV 4/5] END criterion=entropy, max_depth=10, min_samples_leaf=20, min_samples_split=100, n_estimators=400;, score=0.776 total time=   1.6s\n",
      "[CV 5/5] END criterion=entropy, max_depth=10, min_samples_leaf=20, min_samples_split=100, n_estimators=400;, score=0.782 total time=   1.4s\n",
      "[CV 1/5] END criterion=log_loss, max_depth=10, min_samples_leaf=20, min_samples_split=100, n_estimators=400;, score=nan total time=   0.0s\n",
      "[CV 2/5] END criterion=log_loss, max_depth=10, min_samples_leaf=20, min_samples_split=100, n_estimators=400;, score=nan total time=   0.0s\n",
      "[CV 3/5] END criterion=log_loss, max_depth=10, min_samples_leaf=20, min_samples_split=100, n_estimators=400;, score=nan total time=   0.0s\n",
      "[CV 4/5] END criterion=log_loss, max_depth=10, min_samples_leaf=20, min_samples_split=100, n_estimators=400;, score=nan total time=   0.0s\n",
      "[CV 5/5] END criterion=log_loss, max_depth=10, min_samples_leaf=20, min_samples_split=100, n_estimators=400;, score=nan total time=   0.0s\n"
     ]
    },
    {
     "name": "stderr",
     "output_type": "stream",
     "text": [
      "C:\\Users\\ASUS\\anaconda3\\lib\\site-packages\\sklearn\\model_selection\\_validation.py:372: FitFailedWarning: \n",
      "5 fits failed out of a total of 15.\n",
      "The score on these train-test partitions for these parameters will be set to nan.\n",
      "If these failures are not expected, you can try to debug them by setting error_score='raise'.\n",
      "\n",
      "Below are more details about the failures:\n",
      "--------------------------------------------------------------------------------\n",
      "5 fits failed with the following error:\n",
      "Traceback (most recent call last):\n",
      "  File \"C:\\Users\\ASUS\\anaconda3\\lib\\site-packages\\sklearn\\model_selection\\_validation.py\", line 680, in _fit_and_score\n",
      "    estimator.fit(X_train, y_train, **fit_params)\n",
      "  File \"C:\\Users\\ASUS\\anaconda3\\lib\\site-packages\\sklearn\\ensemble\\_forest.py\", line 450, in fit\n",
      "    trees = Parallel(\n",
      "  File \"C:\\Users\\ASUS\\anaconda3\\lib\\site-packages\\joblib\\parallel.py\", line 1043, in __call__\n",
      "    if self.dispatch_one_batch(iterator):\n",
      "  File \"C:\\Users\\ASUS\\anaconda3\\lib\\site-packages\\joblib\\parallel.py\", line 861, in dispatch_one_batch\n",
      "    self._dispatch(tasks)\n",
      "  File \"C:\\Users\\ASUS\\anaconda3\\lib\\site-packages\\joblib\\parallel.py\", line 779, in _dispatch\n",
      "    job = self._backend.apply_async(batch, callback=cb)\n",
      "  File \"C:\\Users\\ASUS\\anaconda3\\lib\\site-packages\\joblib\\_parallel_backends.py\", line 208, in apply_async\n",
      "    result = ImmediateResult(func)\n",
      "  File \"C:\\Users\\ASUS\\anaconda3\\lib\\site-packages\\joblib\\_parallel_backends.py\", line 572, in __init__\n",
      "    self.results = batch()\n",
      "  File \"C:\\Users\\ASUS\\anaconda3\\lib\\site-packages\\joblib\\parallel.py\", line 262, in __call__\n",
      "    return [func(*args, **kwargs)\n",
      "  File \"C:\\Users\\ASUS\\anaconda3\\lib\\site-packages\\joblib\\parallel.py\", line 262, in <listcomp>\n",
      "    return [func(*args, **kwargs)\n",
      "  File \"C:\\Users\\ASUS\\anaconda3\\lib\\site-packages\\sklearn\\utils\\fixes.py\", line 216, in __call__\n",
      "    return self.function(*args, **kwargs)\n",
      "  File \"C:\\Users\\ASUS\\anaconda3\\lib\\site-packages\\sklearn\\ensemble\\_forest.py\", line 185, in _parallel_build_trees\n",
      "    tree.fit(X, y, sample_weight=curr_sample_weight, check_input=False)\n",
      "  File \"C:\\Users\\ASUS\\anaconda3\\lib\\site-packages\\sklearn\\tree\\_classes.py\", line 937, in fit\n",
      "    super().fit(\n",
      "  File \"C:\\Users\\ASUS\\anaconda3\\lib\\site-packages\\sklearn\\tree\\_classes.py\", line 352, in fit\n",
      "    criterion = CRITERIA_CLF[self.criterion](\n",
      "KeyError: 'log_loss'\n",
      "\n",
      "  warnings.warn(some_fits_failed_message, FitFailedWarning)\n",
      "C:\\Users\\ASUS\\anaconda3\\lib\\site-packages\\sklearn\\model_selection\\_search.py:969: UserWarning: One or more of the test scores are non-finite: [0.78268439 0.7796987         nan]\n",
      "  warnings.warn(\n"
     ]
    }
   ],
   "source": [
    "start_time = time.time()\n",
    "\n",
    "grid = GridSearchCV(estimator=rf, param_grid=param_grid, scoring='accuracy',verbose = 3,refit=True).fit(X_train,y_train)\n",
    "\n",
    "end_time = time.time()\n",
    "\n",
    "elapsed_time = end_time - start_time"
   ]
  },
  {
   "cell_type": "code",
   "execution_count": 44,
   "metadata": {},
   "outputs": [
    {
     "name": "stdout",
     "output_type": "stream",
     "text": [
      "0.7826843933263178\n",
      "{'criterion': 'gini', 'max_depth': 10, 'min_samples_leaf': 20, 'min_samples_split': 100, 'n_estimators': 400}\n",
      "Elapsed Time: 00:16\n"
     ]
    }
   ],
   "source": [
    "print(grid.best_score_)\n",
    "print(grid.best_params_)\n",
    "\n",
    "minutes, seconds = divmod(elapsed_time, 60)\n",
    "formatted_time = \"{:02}:{:02}\".format(int(minutes), int(seconds))\n",
    "print(\"Elapsed Time: {}\".format(formatted_time))"
   ]
  },
  {
   "cell_type": "code",
   "execution_count": 46,
   "metadata": {},
   "outputs": [
    {
     "name": "stdout",
     "output_type": "stream",
     "text": [
      "Model: RandomForestClassifier(max_depth=10, min_samples_leaf=20, min_samples_split=100,\n",
      "                       n_estimators=400, random_state=42)\n",
      "\n",
      "Training score: 0.7955688246385921\n",
      "Testing score: 0.7752932551319648\n",
      "\n",
      "Training report:\n",
      "              precision    recall  f1-score   support\n",
      "\n",
      "           0       0.89      0.67      0.77      3157\n",
      "           1       0.74      0.92      0.82      3207\n",
      "\n",
      "    accuracy                           0.80      6364\n",
      "   macro avg       0.81      0.79      0.79      6364\n",
      "weighted avg       0.81      0.80      0.79      6364\n",
      "\n",
      "\n",
      "Testing report:\n",
      "              precision    recall  f1-score   support\n",
      "\n",
      "           0       0.87      0.65      0.75      1389\n",
      "           1       0.71      0.90      0.80      1339\n",
      "\n",
      "    accuracy                           0.78      2728\n",
      "   macro avg       0.79      0.78      0.77      2728\n",
      "weighted avg       0.80      0.78      0.77      2728\n",
      "\n",
      "\n",
      "Confusion Matrix:\n"
     ]
    },
    {
     "data": {
      "image/png": "[encoded data removed]",
      "text/plain": [
       "<Figure size 864x432 with 2 Axes>"
      ]
     },
     "metadata": {
      "needs_background": "light"
     },
     "output_type": "display_data"
    }
   ],
   "source": [
    "rf2 = RandomForestClassifier(criterion = 'gini',\n",
    "                             n_estimators = 400,\n",
    "                             max_depth = 10,\n",
    "                             min_samples_split=100,\n",
    "                             min_samples_leaf=20,\n",
    "                             random_state=42).fit(X_train,y_train)\n",
    "\n",
    "model_scores_classification(rf2)"
   ]
  },
  {
   "cell_type": "markdown",
   "metadata": {},
   "source": [
    "##### 1st Iteration  "
   ]
  },
  {
   "cell_type": "code",
   "execution_count": null,
   "metadata": {},
   "outputs": [],
   "source": [
    "param_grid = {'n_estimators' : [40,50,60,70], # this is where the model tends to be at its best, and at lower number of trees \n",
    "              'criterion' : ['gini','entropy'],\n",
    "              'max_depth' : [10,20,30],\n",
    "              'min_samples_split':[60,80,100],\n",
    "              'min_samples_leaf':[10,15,20]}# where the model tends to be the best at lower depths"
   ]
  },
  {
   "cell_type": "code",
   "execution_count": null,
   "metadata": {},
   "outputs": [],
   "source": [
    "start_time = time.time()\n",
    "\n",
    "grid = GridSearchCV(estimator=rf, param_grid=param_grid, scoring='accuracy',verbose = 3,refit=True).fit(X_train,y_train)\n",
    "\n",
    "end_time = time.time()\n",
    "\n",
    "elapsed_time = end_time - start_time"
   ]
  },
  {
   "cell_type": "code",
   "execution_count": null,
   "metadata": {},
   "outputs": [],
   "source": [
    "print(grid.best_score_)\n",
    "print(grid.best_params_)\n",
    "\n",
    "minutes, seconds = divmod(elapsed_time, 60)\n",
    "formatted_time = \"{:02}:{:02}\".format(int(minutes), int(seconds))\n",
    "print(\"Elapsed Time: {}\".format(formatted_time))"
   ]
  },
  {
   "cell_type": "code",
   "execution_count": null,
   "metadata": {},
   "outputs": [],
   "source": [
    "rf2 = RandomForestClassifier(criterion='entropy',max_depth=30,min_samples_leaf=10\n",
    "                             ,min_samples_split=60,n_estimators=70,random_state=42).fit(X_train,y_train)\n",
    "\n",
    "model_scores_classification(rf2)\n",
    "\n",
    "# reduced overfitting, but the test scores went lower "
   ]
  },
  {
   "cell_type": "markdown",
   "metadata": {},
   "source": [
    "##### 2nd iteration - set it at a higher range for all params to try to increase accuracy "
   ]
  },
  {
   "cell_type": "code",
   "execution_count": null,
   "metadata": {},
   "outputs": [],
   "source": [
    "param_grid = {'n_estimators' : [100,200,300], \n",
    "              'criterion' : ['gini','entropy'],\n",
    "              'max_depth' : [30,50,70],\n",
    "              'min_samples_split':[100,200,300],\n",
    "              'min_samples_leaf':[30,50,70]}"
   ]
  },
  {
   "cell_type": "code",
   "execution_count": null,
   "metadata": {
    "scrolled": true
   },
   "outputs": [],
   "source": [
    "start_time = time.time()\n",
    "\n",
    "grid = GridSearchCV(estimator=rf, param_grid=param_grid, scoring='accuracy',verbose = 3,refit=True).fit(X_train,y_train)\n",
    "\n",
    "end_time = time.time()\n",
    "\n",
    "elapsed_time = end_time - start_time"
   ]
  },
  {
   "cell_type": "code",
   "execution_count": null,
   "metadata": {},
   "outputs": [],
   "source": [
    "print(grid.best_score_)\n",
    "print(grid.best_params_)\n",
    "\n",
    "minutes, seconds = divmod(elapsed_time, 60)\n",
    "formatted_time = \"{:02}:{:02}\".format(int(minutes), int(seconds))\n",
    "print(\"Elapsed Time: {}\".format(formatted_time))"
   ]
  },
  {
   "cell_type": "code",
   "execution_count": null,
   "metadata": {},
   "outputs": [],
   "source": [
    "rf3 = RandomForestClassifier(criterion='entropy',max_depth=30,min_samples_leaf=30\n",
    "                             ,min_samples_split=100,n_estimators=100,random_state=42).fit(X_train,y_train)\n",
    "\n",
    "model_scores_classification(rf3)\n",
    "\n",
    "# overfitting is reduced but accuracies slightly decrease\n",
    "# lower params are better accuracies"
   ]
  },
  {
   "cell_type": "markdown",
   "metadata": {},
   "source": [
    "##### 3rd iteration - added class weights to 1st iteration"
   ]
  },
  {
   "cell_type": "code",
   "execution_count": null,
   "metadata": {},
   "outputs": [],
   "source": [
    "param_grid = {'n_estimators' : [40,50,60,70], # this is where the model tends to be at its best, and at lower number of trees \n",
    "              'criterion' : ['gini','entropy'],\n",
    "              'max_depth' : [10,20,30],\n",
    "              'min_samples_split':[60,80,100],\n",
    "              'min_samples_leaf':[10,15,20],\n",
    "              'class_Weights' : ['balanced','balanced_subsample']}"
   ]
  },
  {
   "cell_type": "code",
   "execution_count": null,
   "metadata": {
    "scrolled": true
   },
   "outputs": [],
   "source": [
    "print(grid.best_score_)\n",
    "print(grid.best_params_)\n",
    "\n",
    "minutes, seconds = divmod(elapsed_time, 60)\n",
    "formatted_time = \"{:02}:{:02}\".format(int(minutes), int(seconds))\n",
    "print(\"Elapsed Time: {}\".format(formatted_time))"
   ]
  },
  {
   "cell_type": "markdown",
   "metadata": {},
   "source": [
    "### 1.3.2 Model 2 (MLP) "
   ]
  },
  {
   "cell_type": "code",
   "execution_count": null,
   "metadata": {},
   "outputs": [],
   "source": [
    "model_scores_classification(mlp)"
   ]
  },
  {
   "cell_type": "markdown",
   "metadata": {},
   "source": [
    "### 1.3.2.1 Hyperparameter Inspection \n",
    "##### hyperparams to be tweaked or that can be tweaked \n",
    "- <mark>hidden_layer_sizes</mark> : number of neurons in the hidden layer \n",
    "- <mark>activation</mark> : activation or squashing function for the hidden layer \n",
    "- <mark>solver</mark> : solver for weight optimization \n",
    "- <mark>max_iter</mark> : maximum number of iterations \n",
    "- <mark>alpha</mark> : regularisation term "
   ]
  },
  {
   "cell_type": "markdown",
   "metadata": {},
   "source": [
    "### 1.3.2.1 (a) hidden_layer_sizes"
   ]
  },
  {
   "cell_type": "markdown",
   "metadata": {},
   "source": [
    "##### hidden layer sizes (brain size) against train and test"
   ]
  },
  {
   "cell_type": "code",
   "execution_count": null,
   "metadata": {},
   "outputs": [],
   "source": [
    "hidden_layer_sizes = [(i,) for i in range(100, 610, 100)]\n",
    "\n",
    "train_mean_accuracies = []\n",
    "test_accuracies = []\n",
    "\n",
    "for size in hidden_layer_sizes:\n",
    "    model = MLPClassifier(hidden_layer_sizes=size, random_state=42)\n",
    "    \n",
    "    # Perform 5-fold cross-validation on the training set\n",
    "    train_accuracies = cross_val_score(model, X_train, y_train, cv=5, scoring='accuracy')\n",
    "    \n",
    "    # Record the mean accuracy across folds on the training set\n",
    "    train_mean_accuracies.append(np.mean(train_accuracies))\n",
    "    \n",
    "    # Fit the model on the full training set and evaluate on the test set\n",
    "    model.fit(X_train, y_train)\n",
    "    test_accuracy = model.score(X_test, y_test)\n",
    "    test_accuracies.append(test_accuracy)\n",
    "\n",
    "# Plotting the graph\n",
    "plt.plot([str(size) for size in hidden_layer_sizes], train_mean_accuracies, marker='o', label='Train Set')\n",
    "plt.plot([str(size) for size in hidden_layer_sizes], test_accuracies, marker='o', label='Test Set')\n",
    "plt.xlabel('Hidden Layer Sizes')\n",
    "plt.ylabel('Mean Accuracy')\n",
    "plt.title('Hidden Layer Sizes vs Mean Accuracy for MLP Model')\n",
    "plt.legend()\n",
    "plt.xticks(rotation=45, ha='right')  # Rotate x-axis labels for better readability\n",
    "plt.show()"
   ]
  },
  {
   "cell_type": "code",
   "execution_count": null,
   "metadata": {},
   "outputs": [],
   "source": [
    "hidden_layer_sizes = [(i,) for i in range(10, 110, 10)]\n",
    "\n",
    "train_mean_accuracies = []\n",
    "test_accuracies = []\n",
    "\n",
    "for size in hidden_layer_sizes:\n",
    "    model = MLPClassifier(hidden_layer_sizes=size, random_state=42)\n",
    "    \n",
    "    # Perform 5-fold cross-validation on the training set\n",
    "    train_accuracies = cross_val_score(model, X_train, y_train, cv=5, scoring='accuracy')\n",
    "    \n",
    "    # Record the mean accuracy across folds on the training set\n",
    "    train_mean_accuracies.append(np.mean(train_accuracies))\n",
    "    \n",
    "    # Fit the model on the full training set and evaluate on the test set\n",
    "    model.fit(X_train, y_train)\n",
    "    test_accuracy = model.score(X_test, y_test)\n",
    "    test_accuracies.append(test_accuracy)\n",
    "\n",
    "# Plotting the graph\n",
    "plt.plot([str(size) for size in hidden_layer_sizes], train_mean_accuracies, marker='o', label='Train Set')\n",
    "plt.plot([str(size) for size in hidden_layer_sizes], test_accuracies, marker='o', label='Test Set')\n",
    "plt.xlabel('Hidden Layer Sizes')\n",
    "plt.ylabel('Mean Accuracy')\n",
    "plt.title('Hidden Layer Sizes vs Mean Accuracy for MLP Model')\n",
    "plt.legend()\n",
    "plt.xticks(rotation=45, ha='right')  # Rotate x-axis labels for better readability\n",
    "plt.show()"
   ]
  },
  {
   "cell_type": "markdown",
   "metadata": {},
   "source": [
    "### 1.3.2.1 (b) max_iter "
   ]
  },
  {
   "cell_type": "markdown",
   "metadata": {},
   "source": [
    "##### max_iter against accuracies (range : 100-1000)"
   ]
  },
  {
   "cell_type": "code",
   "execution_count": null,
   "metadata": {},
   "outputs": [],
   "source": [
    "max_iters = [i for i in range(10, 110, 10)]\n",
    "\n",
    "train_accuracies = []\n",
    "test_accuracies = []\n",
    "\n",
    "# Train MLP models with different max_iter values\n",
    "for max_iter in max_iters:\n",
    "    model = MLPClassifier(max_iter=max_iter, random_state=42)\n",
    "    \n",
    "    # Train the model on the training set\n",
    "    model.fit(X_train, y_train)\n",
    "    \n",
    "    # Evaluate accuracy on the training set\n",
    "    train_accuracy = model.score(X_train, y_train)\n",
    "    train_accuracies.append(train_accuracy)\n",
    "    \n",
    "    # Evaluate accuracy on the test set\n",
    "    test_accuracy = model.score(X_test, y_test)\n",
    "    test_accuracies.append(test_accuracy)\n",
    "\n",
    "# Plotting the graph\n",
    "plt.plot(max_iters, train_accuracies, marker='o', label='Train Set')\n",
    "plt.plot(max_iters, test_accuracies, marker='o', label='Test Set')\n",
    "plt.xlabel('Max Iterations')\n",
    "plt.ylabel('Accuracy')\n",
    "plt.title('Max Iterations vs Accuracy for MLP Model')\n",
    "plt.legend()\n",
    "plt.show()"
   ]
  },
  {
   "cell_type": "code",
   "execution_count": null,
   "metadata": {},
   "outputs": [],
   "source": [
    "max_iters = [i for i in range(100, 1000, 10)]\n",
    "\n",
    "train_accuracies = []\n",
    "test_accuracies = []\n",
    "\n",
    "# Train MLP models with different max_iter values\n",
    "for max_iter in max_iters:\n",
    "    model = MLPClassifier(max_iter=max_iter, random_state=42)\n",
    "    \n",
    "    # Train the model on the training set\n",
    "    model.fit(X_train, y_train)\n",
    "    \n",
    "    # Evaluate accuracy on the training set\n",
    "    train_accuracy = model.score(X_train, y_train)\n",
    "    train_accuracies.append(train_accuracy)\n",
    "    \n",
    "    # Evaluate accuracy on the test set\n",
    "    test_accuracy = model.score(X_test, y_test)\n",
    "    test_accuracies.append(test_accuracy)\n",
    "\n",
    "# Plotting the graph\n",
    "plt.plot(max_iters, train_accuracies, marker='o', label='Train Set')\n",
    "plt.plot(max_iters, test_accuracies, marker='o', label='Test Set')\n",
    "plt.xlabel('Max Iterations')\n",
    "plt.ylabel('Accuracy')\n",
    "plt.title('Max Iterations vs Accuracy for MLP Model')\n",
    "plt.legend()\n",
    "plt.show()\n",
    "\n",
    "# scores tend to plateau at a high number of iterations"
   ]
  },
  {
   "cell_type": "markdown",
   "metadata": {},
   "source": [
    "##### max_iter and solvers vs train score "
   ]
  },
  {
   "cell_type": "code",
   "execution_count": null,
   "metadata": {
    "scrolled": true
   },
   "outputs": [],
   "source": [
    "max_iters = [i for i in range(10, 110, 10)]\n",
    "solvers = ['lbfgs', 'sgd', 'adam']\n",
    "\n",
    "# Create a dictionary to store training scores for each solver\n",
    "train_scores = {solver: [] for solver in solvers}\n",
    "\n",
    "# Train MLP models with different max_iter values and solvers\n",
    "for solver in solvers:\n",
    "    for max_iter in max_iters:\n",
    "        model = MLPClassifier(max_iter=max_iter, solver=solver, random_state=42)\n",
    "        \n",
    "        # Train the model on the training set\n",
    "        model.fit(X_train, y_train)\n",
    "        \n",
    "        # Evaluate accuracy on the training set\n",
    "        train_accurbacy = model.score(X_train, y_train)\n",
    "        train_scores[solver].append(train_accuracy)\n",
    "\n",
    "# Plotting the graph for different solvers\n",
    "for solver in solvers:\n",
    "    plt.plot(max_iters, train_scores[solver], marker='o', label=f'Train Set ({solver} solver)')\n",
    "\n",
    "plt.xlabel('Max Iterations')\n",
    "plt.ylabel('Accuracy')\n",
    "plt.title('Max Iterations vs Training Accuracy for MLP Model (Different Solvers)')\n",
    "plt.legend()\n",
    "plt.show()\n",
    "\n",
    "# according to documentation, 'lbfgs' solver is better for smaller and lesser complex datasets\n",
    "# warnings show here that the model is not converging, it might need alot more iterations for it to converge as\n",
    "# compared to other solvers"
   ]
  },
  {
   "cell_type": "code",
   "execution_count": null,
   "metadata": {
    "scrolled": true
   },
   "outputs": [],
   "source": [
    "max_iters = [i for i in range(100, 1100, 100)]\n",
    "solvers = ['lbfgs', 'sgd', 'adam']\n",
    "\n",
    "# Create a dictionary to store training scores for each solver\n",
    "train_scores = {solver: [] for solver in solvers}\n",
    "\n",
    "# Train MLP models with different max_iter values and solvers\n",
    "for solver in solvers:\n",
    "    for max_iter in max_iters:\n",
    "        model = MLPClassifier(max_iter=max_iter, solver=solver, random_state=42)\n",
    "        \n",
    "        # Train the model on the training set\n",
    "        model.fit(X_train, y_train)\n",
    "        \n",
    "        # Evaluate accuracy on the training set\n",
    "        train_accurbacy = model.score(X_train, y_train)\n",
    "        train_scores[solver].append(train_accuracy)\n",
    "\n",
    "# Plotting the graph for different solvers\n",
    "for solver in solvers:\n",
    "    plt.plot(max_iters, train_scores[solver], marker='o', label=f'Train Set ({solver} solver)')\n",
    "\n",
    "plt.xlabel('Max Iterations')\n",
    "plt.ylabel('Accuracy')\n",
    "plt.title('Max Iterations vs Training Accuracy for MLP Model (Different Solvers)')\n",
    "plt.legend()\n",
    "plt.show()\n",
    "\n",
    "# according to documentation, 'lbfgs' solver is better for smaller and lesser complex datasets\n",
    "# warnings show here that the model is not converging, it might need alot more iterations for it to converge as\n",
    "# compared to other solvers\n",
    "# sometimes the model does not converge for other solvers as well "
   ]
  },
  {
   "cell_type": "markdown",
   "metadata": {},
   "source": [
    "### 1.3.2.2 Optimizing Hyperparameters "
   ]
  },
  {
   "cell_type": "markdown",
   "metadata": {},
   "source": [
    "### 1.3.2.2 (a) GridSearchCV"
   ]
  },
  {
   "cell_type": "code",
   "execution_count": null,
   "metadata": {},
   "outputs": [],
   "source": [
    "mlp_models = [mlp]\n",
    "mlp_names = ['base']"
   ]
  },
  {
   "cell_type": "markdown",
   "metadata": {},
   "source": [
    "##### 1st iteration - low set of max_iter"
   ]
  },
  {
   "cell_type": "code",
   "execution_count": null,
   "metadata": {},
   "outputs": [],
   "source": [
    "param_grid = {'hidden_layer_sizes' : [(50,),(100,),(200,)],\n",
    "              'activation' : ['identity','logistic','tanh','relu'],\n",
    "              'solver' : ['adam','sgd'], # we dont use lbfgs as it is a large dataset \n",
    "              'max_iter' : [40,50,60]} # start with a lower set of iterations "
   ]
  },
  {
   "cell_type": "code",
   "execution_count": null,
   "metadata": {},
   "outputs": [],
   "source": [
    "start_time = time.time()\n",
    "\n",
    "grid = GridSearchCV(estimator=mlp, param_grid=param_grid, scoring='accuracy',verbose = 3,refit=True).fit(X_train,y_train)\n",
    "\n",
    "end_time = time.time()\n",
    "\n",
    "elapsed_time = end_time - start_time"
   ]
  },
  {
   "cell_type": "code",
   "execution_count": null,
   "metadata": {},
   "outputs": [],
   "source": [
    "print(grid.best_score_)\n",
    "print(grid.best_params_)\n",
    "\n",
    "minutes, seconds = divmod(elapsed_time, 60)\n",
    "formatted_time = \"{:02}:{:02}\".format(int(minutes), int(seconds))\n",
    "print(\"Elapsed Time: {}\".format(formatted_time))"
   ]
  },
  {
   "cell_type": "code",
   "execution_count": null,
   "metadata": {},
   "outputs": [],
   "source": [
    "mlp2 = MLPClassifier(activation='relu',hidden_layer_sizes=(100,),max_iter = 50,solver='adam',random_state=42).fit(X_train,y_train)\n",
    "\n",
    "model_scores_classification(mlp2)\n",
    "mlp_models.append(mlp2)\n",
    "mlp_names.append('mlp2 - low iterations')\n",
    "\n",
    "\n",
    "# no change in scores, we need to try to increase it "
   ]
  },
  {
   "cell_type": "markdown",
   "metadata": {},
   "source": [
    "##### 2nd iteration - higher iterations \n",
    "- in the previous search, we used relatively large number neurons with little iterations, which might be why the scores are not as optimal"
   ]
  },
  {
   "cell_type": "code",
   "execution_count": null,
   "metadata": {},
   "outputs": [],
   "source": [
    "param_grid = {'hidden_layer_sizes' : [(50,),(100,),(200,)],\n",
    "              'activation' : ['identity','logistic','tanh','relu'],\n",
    "              'solver' : ['adam','sgd'], # we dont use lbfgs as it is a large dataset \n",
    "              'max_iter' : [100,200,300]} # more iterations for the model to learn? "
   ]
  },
  {
   "cell_type": "code",
   "execution_count": null,
   "metadata": {
    "scrolled": true
   },
   "outputs": [],
   "source": [
    "start_time = time.time()\n",
    "\n",
    "grid = GridSearchCV(estimator=mlp, param_grid=param_grid, scoring='accuracy',verbose = 3,refit=True).fit(X_train,y_train)\n",
    "\n",
    "end_time = time.time()\n",
    "\n",
    "elapsed_time = end_time - start_time"
   ]
  },
  {
   "cell_type": "code",
   "execution_count": null,
   "metadata": {},
   "outputs": [],
   "source": [
    "print(grid.best_score_)\n",
    "print(grid.best_params_)\n",
    "\n",
    "minutes, seconds = divmod(elapsed_time, 60)\n",
    "formatted_time = \"{:02}:{:02}\".format(int(minutes), int(seconds))\n",
    "print(\"Elapsed Time: {}\".format(formatted_time))"
   ]
  },
  {
   "cell_type": "code",
   "execution_count": null,
   "metadata": {},
   "outputs": [],
   "source": [
    "mlp3 = MLPClassifier(activation='logistic',hidden_layer_sizes=(200,),max_iter = 200\n",
    "                     ,solver='adam',random_state=42).fit(X_train,y_train)\n",
    "\n",
    "model_scores_classification(mlp3)\n",
    "mlp_models.append(mlp3)\n",
    "mlp_names.append('mlp3 - higher iterations')\n",
    "\n",
    "# scores increase with close f1 scores"
   ]
  },
  {
   "cell_type": "markdown",
   "metadata": {},
   "source": [
    "##### 3rd iteration - trying higher layers and higher iterations \n",
    "- for the model to learn better "
   ]
  },
  {
   "cell_type": "code",
   "execution_count": null,
   "metadata": {},
   "outputs": [],
   "source": [
    "param_grid = {'hidden_layer_sizes' : [(100,),(200,),(300,),(400,)],\n",
    "              'activation' : ['identity','logistic','tanh','relu'],\n",
    "              'solver' : ['adam','sgd'], # we dont use lbfgs as it is a large dataset \n",
    "              'max_iter' : [500,700,1000]} # more iterations for the model to learn? "
   ]
  },
  {
   "cell_type": "code",
   "execution_count": null,
   "metadata": {
    "scrolled": true
   },
   "outputs": [],
   "source": [
    "start_time = time.time()\n",
    "\n",
    "grid = GridSearchCV(estimator=mlp, param_grid=param_grid, scoring='accuracy',verbose = 3,refit=True).fit(X_train,y_train)\n",
    "\n",
    "end_time = time.time()\n",
    "\n",
    "elapsed_time = end_time - start_time"
   ]
  },
  {
   "cell_type": "code",
   "execution_count": null,
   "metadata": {},
   "outputs": [],
   "source": [
    "print(grid.best_score_)\n",
    "print(grid.best_params_)\n",
    "\n",
    "minutes, seconds = divmod(elapsed_time, 60)\n",
    "formatted_time = \"{:02}:{:02}\".format(int(minutes), int(seconds))\n",
    "print(\"Elapsed Time: {}\".format(formatted_time))"
   ]
  },
  {
   "cell_type": "code",
   "execution_count": null,
   "metadata": {},
   "outputs": [],
   "source": [
    "mlp4 = MLPClassifier(activation='logistic',hidden_layer_sizes=(300,),max_iter = 500\n",
    "                     ,solver='adam',random_state=42).fit(X_train,y_train)\n",
    "\n",
    "model_scores_classification(mlp4)\n",
    "mlp_models.append(mlp4)\n",
    "mlp_names.append('mlp4 - higher iterations,layers')\n",
    "\n",
    "# train score remained the same \n",
    "# test score decreased\n",
    "# how to improve test score?  "
   ]
  },
  {
   "cell_type": "markdown",
   "metadata": {},
   "source": [
    "##### 4th iteration - add regularisation parameter \n",
    "- to reduce overfitting, we try to implement regularization (alpha) \n",
    "- instead of using gridsearch, we see the effect of regularization for the specific model mlp2 (previously optimized) "
   ]
  },
  {
   "cell_type": "code",
   "execution_count": null,
   "metadata": {},
   "outputs": [],
   "source": [
    "alphas = np.logspace(-6, 3, 10)\n",
    "\n",
    "# Calculate training and test scores at different alpha values\n",
    "train_scores, test_scores = validation_curve(\n",
    "    mlp4, X_train, y_train, param_name='alpha', param_range=alphas, cv=5, scoring='accuracy'\n",
    ")\n",
    "\n",
    "# Plot the results\n",
    "plt.figure(figsize=(10, 6))\n",
    "plt.semilogx(alphas, np.mean(train_scores, axis=1), label='Training score', marker='o')\n",
    "plt.semilogx(alphas, np.mean(test_scores, axis=1), label='Cross-validation score', marker='o')\n",
    "plt.title('Validation Curve for MLPClassifier')\n",
    "plt.xlabel('Regularization Strength (alpha)')\n",
    "plt.ylabel('Accuracy Score')\n",
    "plt.legend()\n",
    "plt.grid(True)\n",
    "plt.show()\n"
   ]
  },
  {
   "cell_type": "code",
   "execution_count": null,
   "metadata": {},
   "outputs": [],
   "source": [
    "mlp5 = MLPClassifier(activation='logistic',hidden_layer_sizes=(200,),max_iter = 200\n",
    "                     ,solver='adam',alpha=0.0001,random_state=42).fit(X_train,y_train)\n",
    "\n",
    "model_scores_classification(mlp5)\n",
    "mlp_models.append(mlp5)\n",
    "mlp_names.append('mlp5 - regularisation added')\n",
    "\n",
    "# no change in scores "
   ]
  },
  {
   "cell_type": "markdown",
   "metadata": {},
   "source": [
    "### 1.3.3.3 'optimized' models"
   ]
  },
  {
   "cell_type": "code",
   "execution_count": null,
   "metadata": {},
   "outputs": [],
   "source": [
    "scores_table = []\n",
    "for model, name in zip(mlp_models, mlp_names):\n",
    "    train_score = model.score(X_train, y_train)\n",
    "    test_score = model.score(X_test, y_test)\n",
    "    scores_table.append([name, train_score, test_score])\n",
    "\n",
    "df_scores_mlp = pd.DataFrame(scores_table, columns=[\"Model\", \"Train Score\", \"Test Score\"])\n",
    "\n",
    "df_scores_mlp"
   ]
  },
  {
   "cell_type": "markdown",
   "metadata": {},
   "source": [
    "### 1.3.3 Model 3 (ADA)"
   ]
  },
  {
   "cell_type": "markdown",
   "metadata": {},
   "source": [
    "### 1.3.3.1 Hyperparameter Inspection \n",
    "##### hyperparams to be tweaked or that can be tweaked \n",
    "- <mark>estimator</mark> : we can use the previous models\n",
    "- <mark>n_estimators</mark> : number of estimators \n",
    "- <mark>learning_rate</mark> : learning rate, weight applied at each iteration \n",
    "- <mark>algorithm</mark> : algorithm "
   ]
  },
  {
   "cell_type": "markdown",
   "metadata": {},
   "source": [
    "### 1.3.3.1 (a) n_estimators "
   ]
  },
  {
   "cell_type": "markdown",
   "metadata": {},
   "source": [
    "##### n_estimators against model accuracies "
   ]
  },
  {
   "cell_type": "code",
   "execution_count": null,
   "metadata": {},
   "outputs": [],
   "source": [
    "estimators = [i for i in range(100, 1100, 10)]\n",
    "\n",
    "train_accuracies = []\n",
    "test_accuracies = []\n",
    "\n",
    "# Train AdaBoost models with different n_estimators values\n",
    "for n_estimators in estimators:\n",
    "    model = AdaBoostClassifier(n_estimators=n_estimators, random_state=42)\n",
    "    \n",
    "    # Train the model on the training set\n",
    "    model.fit(X_train, y_train)\n",
    "    \n",
    "    # Evaluate accuracy on the training set\n",
    "    train_accuracy = model.score(X_train, y_train)\n",
    "    train_accuracies.append(train_accuracy)\n",
    "    \n",
    "    # Evaluate accuracy on the test set\n",
    "    test_accuracy = model.score(X_test, y_test)\n",
    "    test_accuracies.append(test_accuracy)\n",
    "\n",
    "# Plotting the graph\n",
    "plt.plot(estimators, train_accuracies,label='Train Set')\n",
    "plt.plot(estimators, test_accuracies,label='Test Set')\n",
    "plt.xlabel('Number of Estimators')\n",
    "plt.ylabel('Accuracy')\n",
    "plt.title('Number of Estimators vs Accuracy for AdaBoost Classifier')\n",
    "plt.legend()\n",
    "plt.show()\n",
    "\n",
    "# scores tend to see increases for the train set, but for the test set it is inconsistent \n",
    "# we can try to strike a balance for it "
   ]
  },
  {
   "cell_type": "markdown",
   "metadata": {},
   "source": [
    "### 1.3.3.1 (b) learning_rate"
   ]
  },
  {
   "cell_type": "markdown",
   "metadata": {},
   "source": [
    "###### learning rate against model accuracies "
   ]
  },
  {
   "cell_type": "code",
   "execution_count": null,
   "metadata": {},
   "outputs": [],
   "source": [
    "learning_rates = [0.01, 0.1, 0.5, 1.0]\n",
    "\n",
    "train_accuracies = []\n",
    "test_accuracies = []\n",
    "\n",
    "# Train AdaBoost models with different learning rates\n",
    "for learning_rate in learning_rates:\n",
    "    model = AdaBoostClassifier(learning_rate=learning_rate, n_estimators=500, random_state=42)\n",
    "    \n",
    "    # Train the model on the training set\n",
    "    model.fit(X_train, y_train)\n",
    "    \n",
    "    # Evaluate accuracy on the training set\n",
    "    train_accuracy = model.score(X_train, y_train)\n",
    "    train_accuracies.append(train_accuracy)\n",
    "    \n",
    "    # Evaluate accuracy on the test set\n",
    "    test_accuracy = model.score(X_test, y_test)\n",
    "    test_accuracies.append(test_accuracy)\n",
    "\n",
    "# Plotting the graph\n",
    "plt.plot(learning_rates, train_accuracies, marker='o', label='Train Set')\n",
    "plt.plot(learning_rates, test_accuracies, marker='o', label='Test Set')\n",
    "plt.xlabel('Learning Rate')\n",
    "plt.ylabel('Accuracy')\n",
    "plt.title('Learning Rate vs Accuracy for AdaBoost Classifier')\n",
    "plt.legend()\n",
    "plt.show()"
   ]
  },
  {
   "cell_type": "markdown",
   "metadata": {},
   "source": [
    "### 1.3.3.2 Optimizing Hyperparameters "
   ]
  },
  {
   "cell_type": "markdown",
   "metadata": {},
   "source": [
    "### 1.3.3.2 (a) GridSearchCV "
   ]
  },
  {
   "cell_type": "markdown",
   "metadata": {},
   "source": [
    "##### 1st iteration - lower estimators"
   ]
  },
  {
   "cell_type": "code",
   "execution_count": null,
   "metadata": {},
   "outputs": [],
   "source": [
    "param_grid = {'n_estimators' : [200,300,400],\n",
    "              'learning_rate' : [0.6,0.8,1],\n",
    "              'algorithm' : ['SAMME.R','SAMME']}"
   ]
  },
  {
   "cell_type": "code",
   "execution_count": null,
   "metadata": {
    "scrolled": true
   },
   "outputs": [],
   "source": [
    "start_time = time.time()\n",
    "\n",
    "grid = GridSearchCV(estimator=ada, param_grid=param_grid, scoring='accuracy',verbose = 3,refit=True).fit(X_train,y_train)\n",
    "\n",
    "end_time = time.time()\n",
    "\n",
    "elapsed_time = end_time - start_time"
   ]
  },
  {
   "cell_type": "code",
   "execution_count": null,
   "metadata": {},
   "outputs": [],
   "source": [
    "print(grid.best_score_)\n",
    "print(grid.best_params_)\n",
    "\n",
    "minutes, seconds = divmod(elapsed_time, 60)\n",
    "formatted_time = \"{:02}:{:02}\".format(int(minutes), int(seconds))\n",
    "print(\"Elapsed Time: {}\".format(formatted_time))"
   ]
  },
  {
   "cell_type": "code",
   "execution_count": null,
   "metadata": {},
   "outputs": [],
   "source": [
    "ada2 = AdaBoostClassifier(algorithm='SAMME.R',learning_rate=1,n_estimators=300,random_state=42).fit(X_train,y_train)\n",
    "\n",
    "model_scores_classification(ada2)\n",
    "\n",
    "# train and test scores increase but is slightly overfit"
   ]
  },
  {
   "cell_type": "markdown",
   "metadata": {},
   "source": [
    "##### 2nd iteration - lower learning rate \n",
    "- high learning rates tend to lead to overfitting "
   ]
  },
  {
   "cell_type": "code",
   "execution_count": null,
   "metadata": {},
   "outputs": [],
   "source": [
    "param_grid = {'n_estimators' : [200,300,400],\n",
    "              'learning_rate' : [0.2,0.4,0.6],\n",
    "              'algorithm' : ['SAMME.R','SAMME']}"
   ]
  },
  {
   "cell_type": "code",
   "execution_count": null,
   "metadata": {
    "scrolled": true
   },
   "outputs": [],
   "source": [
    "start_time = time.time()\n",
    "\n",
    "grid = GridSearchCV(estimator=ada, param_grid=param_grid, scoring='accuracy',verbose = 3,refit=True).fit(X_train,y_train)\n",
    "\n",
    "end_time = time.time()\n",
    "\n",
    "elapsed_time = end_time - start_time"
   ]
  },
  {
   "cell_type": "code",
   "execution_count": null,
   "metadata": {},
   "outputs": [],
   "source": [
    "print(grid.best_score_)\n",
    "print(grid.best_params_)\n",
    "\n",
    "minutes, seconds = divmod(elapsed_time, 60)\n",
    "formatted_time = \"{:02}:{:02}\".format(int(minutes), int(seconds))\n",
    "print(\"Elapsed Time: {}\".format(formatted_time))"
   ]
  },
  {
   "cell_type": "code",
   "execution_count": null,
   "metadata": {},
   "outputs": [],
   "source": [
    "ada3  = AdaBoostClassifier(algorithm='SAMME.R',learning_rate=0.6,n_estimators=400,random_state=42).fit(X_train,y_train)\n",
    "\n",
    "model_scores_classification(ada3)\n",
    "\n",
    "# overfitting is reduced "
   ]
  },
  {
   "cell_type": "markdown",
   "metadata": {},
   "source": [
    "##### 3rd iteration - use lower number of estimators \n",
    "- higher estimators leads to overfitting due to complexity? (confirm this)"
   ]
  },
  {
   "cell_type": "code",
   "execution_count": null,
   "metadata": {},
   "outputs": [],
   "source": [
    "param_grid = {'n_estimators' : [50,100,200],\n",
    "              'learning_rate' : [0.2,0.4,0.6],\n",
    "              'algorithm' : ['SAMME.R','SAMME']}"
   ]
  },
  {
   "cell_type": "code",
   "execution_count": null,
   "metadata": {
    "scrolled": true
   },
   "outputs": [],
   "source": [
    "start_time = time.time()\n",
    "\n",
    "grid = GridSearchCV(estimator=ada, param_grid=param_grid, scoring='accuracy',verbose = 3,refit=True).fit(X_train,y_train)\n",
    "\n",
    "end_time = time.time()\n",
    "\n",
    "elapsed_time = end_time - start_time"
   ]
  },
  {
   "cell_type": "code",
   "execution_count": null,
   "metadata": {},
   "outputs": [],
   "source": [
    "print(grid.best_score_)\n",
    "print(grid.best_params_)\n",
    "\n",
    "minutes, seconds = divmod(elapsed_time, 60)\n",
    "formatted_time = \"{:02}:{:02}\".format(int(minutes), int(seconds))\n",
    "print(\"Elapsed Time: {}\".format(formatted_time))"
   ]
  },
  {
   "cell_type": "code",
   "execution_count": null,
   "metadata": {},
   "outputs": [],
   "source": [
    "ada4  = AdaBoostClassifier(algorithm='SAMME.R',learning_rate=0.6,n_estimators=200,random_state=42).fit(X_train,y_train)\n",
    "\n",
    "model_scores_classification(ada4)\n",
    "\n",
    "# lower iterations leads test score to be lower? "
   ]
  },
  {
   "cell_type": "markdown",
   "metadata": {},
   "source": [
    "## 2. Airbnb"
   ]
  },
  {
   "cell_type": "code",
   "execution_count": null,
   "metadata": {},
   "outputs": [],
   "source": [
    "# import the required packages\n",
    "\n",
    "# tabular data\n",
    "import pandas as pd\n",
    "import numpy as np \n",
    "from tabulate import tabulate\n",
    "\n",
    "# data visualization\n",
    "import matplotlib.pyplot as plt\n",
    "import seaborn as sns\n",
    "\n",
    "# train test split\n",
    "from sklearn.model_selection import train_test_split\n",
    "\n",
    "# metrics \n",
    "from sklearn.metrics import classification_report\n",
    "from sklearn import metrics\n",
    "from sklearn.metrics import mean_squared_error, mean_absolute_error,r2_score\n",
    "from sklearn.metrics import accuracy_score\n",
    "\n",
    "\n",
    "# model opitmization\n",
    "from sklearn.model_selection import GridSearchCV\n",
    "\n",
    "# model evaluation\n",
    "from sklearn.model_selection import cross_val_score, cross_validate\n",
    "from sklearn.metrics import confusion_matrix, classification_report\n",
    "from sklearn.model_selection import learning_curve\n",
    "from sklearn.model_selection import validation_curve\n",
    "\n",
    "# time - test\n",
    "import time\n",
    "\n",
    "# math \n",
    "from math import sqrt\n",
    "\n",
    "# statistical models \n",
    "import statsmodels.api as sm\n",
    "\n",
    "# regression models \n",
    "from sklearn.linear_model import LinearRegression\n",
    "from sklearn.tree import DecisionTreeRegressor\n",
    "from sklearn.ensemble import RandomForestRegressor\n",
    "from sklearn.svm import SVR\n",
    "from xgboost import XGBRegressor\n",
    "from sklearn.ensemble import AdaBoostRegressor\n",
    "from sklearn.neural_network import MLPRegressor\n",
    "\n",
    "# scaling \n",
    "from sklearn.preprocessing import StandardScaler"
   ]
  },
  {
   "cell_type": "markdown",
   "metadata": {},
   "source": [
    "### 2.1 Load and Sample the data"
   ]
  },
  {
   "cell_type": "code",
   "execution_count": null,
   "metadata": {},
   "outputs": [],
   "source": [
    "df_bnb = pd.read_csv('./bnb_transformed.csv')"
   ]
  },
  {
   "cell_type": "code",
   "execution_count": null,
   "metadata": {},
   "outputs": [],
   "source": [
    "df_bnb.info()"
   ]
  },
  {
   "cell_type": "code",
   "execution_count": null,
   "metadata": {},
   "outputs": [],
   "source": [
    "df_bnb.head()"
   ]
  },
  {
   "cell_type": "code",
   "execution_count": null,
   "metadata": {
    "scrolled": false
   },
   "outputs": [],
   "source": [
    "df_bnb.isnull().sum()"
   ]
  },
  {
   "cell_type": "code",
   "execution_count": null,
   "metadata": {},
   "outputs": [],
   "source": [
    "df_bnb.describe()"
   ]
  },
  {
   "cell_type": "markdown",
   "metadata": {},
   "source": [
    "### 2.1.1 Train and Test Splits "
   ]
  },
  {
   "cell_type": "code",
   "execution_count": null,
   "metadata": {},
   "outputs": [],
   "source": [
    "X = df_bnb.drop(['price'], axis =1)\n",
    "y = df_bnb['price']\n",
    "\n",
    "X_train, X_test, y_train, y_test = train_test_split(X, y, test_size=0.3, random_state=42)"
   ]
  },
  {
   "cell_type": "markdown",
   "metadata": {},
   "source": [
    "### 2.1.2 Feature Importances"
   ]
  },
  {
   "cell_type": "code",
   "execution_count": null,
   "metadata": {},
   "outputs": [],
   "source": [
    "# using OLS model to see the p-values and coefficients \n",
    "ols = sm.OLS(y_train, X_train).fit()\n",
    "# Summary statistics from the model\n",
    "ols.summary()"
   ]
  },
  {
   "cell_type": "code",
   "execution_count": null,
   "metadata": {},
   "outputs": [],
   "source": [
    "# choose which features to drop in train and test \n",
    "\n",
    "columns_to_drop = ['apartment', 'apt', 'bed', 'bedroom', 'br', 'central', 'city', 'condo', 'cosy', 'cozy', \n",
    "                   'mins', 'near', 'orchard', 'room', 'studio','longitude','latitude']\n",
    "\n",
    "X_train = X_train.drop(columns=columns_to_drop)\n",
    "\n",
    "X_test = X_test.drop(columns=columns_to_drop)"
   ]
  },
  {
   "cell_type": "code",
   "execution_count": null,
   "metadata": {},
   "outputs": [],
   "source": [
    "X_train.info()"
   ]
  },
  {
   "cell_type": "markdown",
   "metadata": {},
   "source": [
    "### 2.1.3 Scaling"
   ]
  },
  {
   "cell_type": "code",
   "execution_count": null,
   "metadata": {},
   "outputs": [],
   "source": [
    "def print_variable_scale(dataframe, variable_name):\n",
    "    if variable_name not in dataframe.columns:\n",
    "        print(f\"Variable '{variable_name}' not found in the DataFrame.\")\n",
    "        return\n",
    "\n",
    "    variable_data = dataframe[variable_name]\n",
    "\n",
    "    variable_range = variable_data.max() - variable_data.min()\n",
    "\n",
    "    print(f\"{variable_name} : {variable_range}\")"
   ]
  },
  {
   "cell_type": "code",
   "execution_count": null,
   "metadata": {},
   "outputs": [],
   "source": [
    "for n in X_train.columns : \n",
    "    print_variable_scale(X_train,n)"
   ]
  },
  {
   "cell_type": "code",
   "execution_count": null,
   "metadata": {
    "scrolled": true
   },
   "outputs": [],
   "source": [
    "# experiment scaling all cols \n",
    "X_train_copy = X_train.copy()\n",
    "X_test_copy = X_test.copy()\n",
    "\n",
    "# Initialize the StandardScaler\n",
    "scaler = StandardScaler()\n",
    "\n",
    "# Fit and transform the scaler on x_train and x_test copies\n",
    "X_train_scaled = pd.DataFrame(scaler.fit_transform(X_train_copy), columns=X_train_copy.columns)\n",
    "X_test_scaled = pd.DataFrame(scaler.transform(X_test_copy), columns=X_test_copy.columns)"
   ]
  },
  {
   "cell_type": "code",
   "execution_count": null,
   "metadata": {},
   "outputs": [],
   "source": [
    "fig, (ax1, ax2) = plt.subplots(1, 2, figsize=(16, 6))\n",
    "\n",
    "# Plot before scaling\n",
    "ax1.set_title('Before Scaling')\n",
    "sns.kdeplot(X_train['host_id'], ax=ax1, label='host_id')\n",
    "sns.kdeplot(X_train['neighbourhood'], ax=ax1, label='neighbourhood')\n",
    "sns.kdeplot(X_train['room_type'], ax=ax1, label='room_type')\n",
    "sns.kdeplot(X_train['minimum_nights'], ax=ax1, label='minimum_nights')\n",
    "sns.kdeplot(X_train['number_of_reviews'], ax=ax1, label='number_of_reviews')\n",
    "sns.kdeplot(X_train['reviews_per_month'], ax=ax1, label='reviews_per_month')\n",
    "sns.kdeplot(X_train['calculated_host_listings_count'], ax=ax1, label='calculated_host_listings_count')\n",
    "sns.kdeplot(X_train['availability_365'], ax=ax1, label='availability_365')\n",
    "sns.kdeplot(X_train['last_review_year'], ax=ax1, label='last_review_year')\n",
    "sns.kdeplot(X_train['last_review_month'], ax=ax1, label='last_review_month')\n",
    "sns.kdeplot(X_train['last_review_day'], ax=ax1, label='last_review_day')\n",
    "sns.kdeplot(X_train['mrt'], ax=ax1, label='mrt')\n",
    "sns.kdeplot(X_train['private'], ax=ax1, label='private')\n",
    "sns.kdeplot(X_train['spacious'], ax=ax1, label='spacious')\n",
    "\n",
    "ax1.legend()\n",
    "\n",
    "# Plot after scaling\n",
    "ax2.set_title('After Scaling')\n",
    "sns.kdeplot(X_train_scaled['host_id'], ax=ax2, label='host_id')\n",
    "sns.kdeplot(X_train_scaled['neighbourhood'], ax=ax2, label='neighbourhood')\n",
    "sns.kdeplot(X_train_scaled['room_type'], ax=ax2, label='room_type')\n",
    "sns.kdeplot(X_train_scaled['minimum_nights'], ax=ax2, label='minimum_nights')\n",
    "sns.kdeplot(X_train_scaled['number_of_reviews'], ax=ax2, label='number_of_reviews')\n",
    "sns.kdeplot(X_train_scaled['reviews_per_month'], ax=ax2, label='reviews_per_month')\n",
    "sns.kdeplot(X_train_scaled['calculated_host_listings_count'], ax=ax2, label='calculated_host_listings_count')\n",
    "sns.kdeplot(X_train_scaled['availability_365'], ax=ax2, label='availability_365')\n",
    "sns.kdeplot(X_train_scaled['last_review_year'], ax=ax2, label='last_review_year')\n",
    "sns.kdeplot(X_train_scaled['last_review_month'], ax=ax2, label='last_review_month')\n",
    "sns.kdeplot(X_train_scaled['last_review_day'], ax=ax2, label='last_review_day')\n",
    "sns.kdeplot(X_train_scaled['mrt'], ax=ax2, label='mrt')\n",
    "sns.kdeplot(X_train_scaled['private'], ax=ax2, label='private')\n",
    "sns.kdeplot(X_train_scaled['spacious'], ax=ax2, label='spacious')\n",
    "\n",
    "ax2.legend()\n",
    "\n",
    "plt.tight_layout()\n",
    "plt.show()"
   ]
  },
  {
   "cell_type": "code",
   "execution_count": null,
   "metadata": {},
   "outputs": [],
   "source": [
    "# experiment if x_train is scaled \n",
    "X_train = X_train_scaled\n",
    "X_test = X_test_scaled"
   ]
  },
  {
   "cell_type": "markdown",
   "metadata": {},
   "source": [
    "### 2.2 Build the Model(s)"
   ]
  },
  {
   "cell_type": "code",
   "execution_count": null,
   "metadata": {},
   "outputs": [],
   "source": [
    "models = []\n",
    "\n",
    "model_names = []"
   ]
  },
  {
   "cell_type": "code",
   "execution_count": null,
   "metadata": {},
   "outputs": [],
   "source": [
    "# linear regression\n",
    "lr = LinearRegression().fit(X_train,y_train)\n",
    "\n",
    "models.append(lr)\n",
    "model_names.append('LinearRegression')"
   ]
  },
  {
   "cell_type": "code",
   "execution_count": null,
   "metadata": {},
   "outputs": [],
   "source": [
    "# decision tree regressor\n",
    "dtr = DecisionTreeRegressor(random_state=42).fit(X_train,y_train)\n",
    "\n",
    "models.append(dtr)\n",
    "model_names.append('DTree Regressor')"
   ]
  },
  {
   "cell_type": "code",
   "execution_count": null,
   "metadata": {},
   "outputs": [],
   "source": [
    "# random forest regressor \n",
    "rfr = RandomForestRegressor(random_state=42).fit(X_train, y_train)\n",
    "\n",
    "models.append(rfr)\n",
    "model_names.append('Random Forest Regressor')"
   ]
  },
  {
   "cell_type": "code",
   "execution_count": null,
   "metadata": {},
   "outputs": [],
   "source": [
    "# SVR\n",
    "svr = SVR().fit(X_train, y_train)\n",
    "\n",
    "models.append(svr)\n",
    "model_names.append('SVR')"
   ]
  },
  {
   "cell_type": "code",
   "execution_count": null,
   "metadata": {},
   "outputs": [],
   "source": [
    "# adaptive boosting \n",
    "ada_r = AdaBoostRegressor(random_state=42).fit(X_train, y_train)\n",
    "\n",
    "models.append(ada_r)\n",
    "model_names.append('ADA Boost')"
   ]
  },
  {
   "cell_type": "code",
   "execution_count": null,
   "metadata": {},
   "outputs": [],
   "source": [
    "# XGB\n",
    "xgb_r = XGBRegressor(random_state=42).fit(X_train, y_train)\n",
    "\n",
    "models.append(xgb_r)\n",
    "model_names.append('XG Boost')"
   ]
  },
  {
   "cell_type": "code",
   "execution_count": null,
   "metadata": {},
   "outputs": [],
   "source": [
    "# multilayer perceptron\n",
    "mlp_r = MLPRegressor(random_state=42).fit(X_train,y_train)\n",
    "\n",
    "models.append(mlp_r)\n",
    "model_names.append('Multilayer Perceptron')"
   ]
  },
  {
   "cell_type": "markdown",
   "metadata": {},
   "source": [
    "### 2.2.1 Consolidated View of Model Accuracies "
   ]
  },
  {
   "cell_type": "code",
   "execution_count": null,
   "metadata": {},
   "outputs": [],
   "source": [
    "results = []\n",
    "\n",
    "for model, model_name in zip(models, model_names):\n",
    "    # Fit the model on the training set\n",
    "    model.fit(X_train, y_train)\n",
    "\n",
    "    # Calculate metrics\n",
    "    train_r2 = model.score(X_train, y_train)\n",
    "    test_r2 = model.score(X_test, y_test)\n",
    "\n",
    "    train_rmse = sqrt(mean_squared_error(y_train, model.predict(X_train)))\n",
    "    test_rmse = sqrt(mean_squared_error(y_test, model.predict(X_test)))\n",
    "\n",
    "    # Append results to the list\n",
    "    results.append({\n",
    "        'Model': model_name,\n",
    "        'Train_RMSE': train_rmse,\n",
    "        'Test_RMSE': test_rmse,\n",
    "        'Train_R2': train_r2,\n",
    "        'Test_R2': test_r2\n",
    "    })\n",
    "\n",
    "# Create a DataFrame from the results\n",
    "results_df = pd.DataFrame(results)\n",
    "\n",
    "# Display the DataFrame\n",
    "results_df"
   ]
  },
  {
   "cell_type": "markdown",
   "metadata": {},
   "source": [
    "### 2.3 Evaluate and Improve the Model(s)\n",
    "These models will be chosen for further evaluation and tuning  : <mark>Random Forest Regressor</mark>, <mark>SVR</mark>,<mark>XG Boost</mark>."
   ]
  },
  {
   "cell_type": "code",
   "execution_count": null,
   "metadata": {},
   "outputs": [],
   "source": [
    "def model_scores_regression(model):\n",
    "    print(f\"Model : {model}:\\n\")\n",
    "    # Predictions on the training set\n",
    "    y_train_pred = model.predict(X_train)\n",
    "    \n",
    "    # Predictions on the testing set\n",
    "    y_test_pred = model.predict(X_test)\n",
    "    \n",
    "    # Calculated the RMSE and R^2 for training set\n",
    "    print('R-Square:')\n",
    "    print(model.score(X_train, y_train), '(Train R^2 Value)')  # R squared value (ranges from 0 to 1): the higher the better\n",
    "    print(model.score(X_test, y_test), '(Test R^2 Value)')  # R squared value (ranges from 0 to 1): the higher the better\n",
    "    \n",
    "    # Create subplot for training set\n",
    "    plt.figure(figsize=(12, 5))  # Adjust the figure size\n",
    "    plt.subplot(1, 2, 1)\n",
    "    plt.scatter(y_train, y_train_pred, label='Actual vs. Predicted (Training)')\n",
    "    plt.plot([y_train.min(), y_train.max()], [y_train.min(), y_train.max()], '--', color='red', label='Ideal Fit')\n",
    "    plt.xlabel(\"Actual (Fitted) Values\")\n",
    "    plt.ylabel(\"Predicted Values\")\n",
    "    plt.title(\"Training Set: Fitted against Predicted Plot\")\n",
    "    plt.legend()\n",
    "    \n",
    "    print()\n",
    "    \n",
    "    print('RMSE:')\n",
    "    # Calculated the RMSE and R^2 for testing set\n",
    "    print(sqrt(mean_squared_error(y_train_pred, y_train)), '(Train RMSE)')  # RMSE: the lower the better\n",
    "    print(sqrt(mean_squared_error(y_test_pred, y_test)), '(Test RMSE)')  # RMSE: the lower the better\n",
    "    \n",
    "    # Create subplot for testing set\n",
    "    plt.subplot(1, 2, 2)\n",
    "    plt.scatter(y_test, y_test_pred, label='Actual vs. Predicted (Testing)')\n",
    "    plt.plot([y_test.min(), y_test.max()], [y_test.min(), y_test.max()], '--', color='red', label='Ideal Fit')\n",
    "    plt.xlabel(\"Actual (Fitted) Values\")\n",
    "    plt.ylabel(\"Predicted Values\")\n",
    "    plt.title(\"Testing Set: Fitted against Predicted Plot\")\n",
    "    plt.legend()\n",
    "\n",
    "    # Adjust layout to prevent overlapping\n",
    "    plt.tight_layout()\n",
    "    plt.show()"
   ]
  },
  {
   "cell_type": "markdown",
   "metadata": {},
   "source": [
    "### 2.3.1 Model 1 (Random Forest Regressor) "
   ]
  },
  {
   "cell_type": "code",
   "execution_count": null,
   "metadata": {},
   "outputs": [],
   "source": [
    "model_scores_regression(rfr)\n",
    "# the model is very overfitted "
   ]
  },
  {
   "cell_type": "markdown",
   "metadata": {},
   "source": [
    "### 2.3.1.1 Hyperparameter Inspection \n",
    "- <mark>n_estimators</mark> : number of trees\n",
    "- <mark>criterion</mark> : quality of split\n",
    "- <mark>max_depth</mark> : depth of tree, if there are too many details it might lead to overfitting? affected by:min_samples_split samples\n",
    "- <mark>min_samples_split</mark> : number of samples required to split an internal node \n",
    "- <mark>min_samples_leaf</mark> : number of samples required to become a leaf? makes model more generalised (add later on?) \n",
    "- <mark>max_features</mark> : number of features to consider for a best split "
   ]
  },
  {
   "cell_type": "markdown",
   "metadata": {},
   "source": [
    "### 2.3.1.1 (a) n_estimators"
   ]
  },
  {
   "cell_type": "markdown",
   "metadata": {},
   "source": [
    "##### n_estimators vs. rsq (range: 10-100)"
   ]
  },
  {
   "cell_type": "code",
   "execution_count": null,
   "metadata": {},
   "outputs": [],
   "source": [
    "n_estimators_values = np.arange(10, 110, 10)\n",
    "\n",
    "# Lists to store train and test scores\n",
    "train_scores = []\n",
    "test_scores = []\n",
    "\n",
    "# Loop through different n_estimators values\n",
    "for n_estimators in n_estimators_values:\n",
    "    # Create and fit the RandomForestRegressor\n",
    "    rf_regressor = RandomForestRegressor(n_estimators=n_estimators, random_state=42)\n",
    "    rf_regressor.fit(X_train, y_train)\n",
    "    \n",
    "    # Calculate and store train and test scores (using R-squared)\n",
    "    train_scores.append(rf_regressor.score(X_train, y_train))\n",
    "    test_scores.append(rf_regressor.score(X_test, y_test))\n",
    "\n",
    "# Plot the results\n",
    "plt.figure(figsize=(10, 6))\n",
    "plt.plot(n_estimators_values, train_scores, label='Train R-squared', marker='o')\n",
    "plt.plot(n_estimators_values, test_scores, label='Test R-squared', marker='o')\n",
    "plt.title('RandomForestRegressor Performance vs. Number of Estimators')\n",
    "plt.xlabel('Number of Estimators')\n",
    "plt.ylabel('R-squared')\n",
    "plt.legend()\n",
    "plt.show()\n",
    "\n",
    "# train score is so high - why? "
   ]
  },
  {
   "cell_type": "markdown",
   "metadata": {},
   "source": [
    "##### n_estimators vs rsq (range: 100-1000)\n",
    "- more estimators might make the model more complex"
   ]
  },
  {
   "cell_type": "code",
   "execution_count": null,
   "metadata": {},
   "outputs": [],
   "source": [
    "n_estimators_values = np.arange(100, 1100, 100)\n",
    "\n",
    "# Lists to store train and test scores\n",
    "train_scores = []\n",
    "test_scores = []\n",
    "\n",
    "# Loop through different n_estimators values\n",
    "for n_estimators in n_estimators_values:\n",
    "    # Create and fit the RandomForestRegressor\n",
    "    rf_regressor = RandomForestRegressor(n_estimators=n_estimators, random_state=42)\n",
    "    rf_regressor.fit(X_train, y_train)\n",
    "    \n",
    "    # Calculate and store train and test scores (using R-squared)\n",
    "    train_scores.append(rf_regressor.score(X_train, y_train))\n",
    "    test_scores.append(rf_regressor.score(X_test, y_test))\n",
    "\n",
    "# Plot the results\n",
    "plt.figure(figsize=(10, 6))\n",
    "plt.plot(n_estimators_values, train_scores, label='Train R-squared', marker='o')\n",
    "plt.plot(n_estimators_values, test_scores, label='Test R-squared', marker='o')\n",
    "plt.title('RandomForestRegressor Performance vs. Number of Estimators')\n",
    "plt.xlabel('Number of Estimators')\n",
    "plt.ylabel('R-squared')\n",
    "plt.legend()\n",
    "plt.show()\n",
    "\n",
    "# the values tend to plateau as we go higher\n",
    "# need to either reduce the train score or increase the test score"
   ]
  },
  {
   "cell_type": "markdown",
   "metadata": {},
   "source": [
    "### 2.3.1.1 (b) max_depth"
   ]
  },
  {
   "cell_type": "markdown",
   "metadata": {},
   "source": [
    "##### max_depth - cross val accuracy"
   ]
  },
  {
   "cell_type": "code",
   "execution_count": null,
   "metadata": {},
   "outputs": [],
   "source": [
    "max_depth_values = np.arange(10, 100,10)\n",
    "\n",
    "# Lists to store cross-validated R-squared values for both training and testing\n",
    "train_cross_val_rsq_values = []\n",
    "test_cross_val_rsq_values = []\n",
    "\n",
    "# Loop through different max_depth values\n",
    "for max_depth in max_depth_values:\n",
    "    # Create the RandomForestRegressor\n",
    "    rf_regressor = RandomForestRegressor(max_depth=max_depth, random_state=42)\n",
    "    \n",
    "    # Calculate cross-validated R-squared values for training set\n",
    "    train_cross_val_rsq = cross_val_score(rf_regressor, X_train, y_train, cv=5, scoring='r2')\n",
    "    \n",
    "    # Calculate cross-validated R-squared values for testing set\n",
    "    test_cross_val_rsq = cross_val_score(rf_regressor, X_test, y_test, cv=5, scoring='r2')\n",
    "    \n",
    "    # Store the mean of cross-validated R-squared values for both training and testing sets\n",
    "    train_cross_val_rsq_values.append(np.mean(train_cross_val_rsq))\n",
    "    test_cross_val_rsq_values.append(np.mean(test_cross_val_rsq))\n",
    "\n",
    "# Plot the results\n",
    "plt.figure(figsize=(10, 6))\n",
    "plt.plot(max_depth_values, train_cross_val_rsq_values, label='Train Cross-Validated R-squared', marker='o')\n",
    "plt.plot(max_depth_values, test_cross_val_rsq_values, label='Test Cross-Validated R-squared', marker='o')\n",
    "plt.title('RandomForestRegressor Performance vs. Max Depth')\n",
    "plt.xlabel('Max Depth')\n",
    "plt.ylabel('R-squared')\n",
    "plt.legend()\n",
    "plt.show()"
   ]
  },
  {
   "cell_type": "markdown",
   "metadata": {},
   "source": [
    "##### max_depth vs train and test rsq"
   ]
  },
  {
   "cell_type": "code",
   "execution_count": null,
   "metadata": {},
   "outputs": [],
   "source": [
    "max_depth_values = np.arange(10, 21)\n",
    "\n",
    "# Lists to store R-squared values for both training and testing\n",
    "train_rsq_values = []\n",
    "test_rsq_values = []\n",
    "\n",
    "# Loop through different max_depth values\n",
    "for max_depth in max_depth_values:\n",
    "    # Create the RandomForestRegressor\n",
    "    rf_regressor = RandomForestRegressor(max_depth=max_depth, random_state=42)\n",
    "    \n",
    "    # Fit the model on training data\n",
    "    rf_regressor.fit(X_train, y_train)\n",
    "    \n",
    "    # Calculate R-squared values for training set\n",
    "    train_rsq = r2_score(y_train, rf_regressor.predict(X_train))\n",
    "    train_rsq_values.append(train_rsq)\n",
    "    \n",
    "    # Calculate R-squared values for testing set\n",
    "    test_rsq = r2_score(y_test, rf_regressor.predict(X_test))\n",
    "    test_rsq_values.append(test_rsq)\n",
    "\n",
    "# Plot the results\n",
    "plt.figure(figsize=(10, 6))\n",
    "plt.plot(max_depth_values, train_rsq_values, label='Train R-squared', marker='o')\n",
    "plt.plot(max_depth_values, test_rsq_values, label='Test R-squared', marker='o')\n",
    "plt.title('RandomForestRegressor Performance vs. Max Depth')\n",
    "plt.xlabel('Max Depth')\n",
    "plt.ylabel('R-squared')\n",
    "plt.legend()\n",
    "plt.show()"
   ]
  },
  {
   "cell_type": "code",
   "execution_count": null,
   "metadata": {},
   "outputs": [],
   "source": [
    "max_depth_values = np.arange(10, 110,10)\n",
    "\n",
    "# Lists to store R-squared values for both training and testing\n",
    "train_rsq_values = []\n",
    "test_rsq_values = []\n",
    "\n",
    "# Loop through different max_depth values\n",
    "for max_depth in max_depth_values:\n",
    "    # Create the RandomForestRegressor\n",
    "    rf_regressor = RandomForestRegressor(max_depth=max_depth, random_state=42)\n",
    "    \n",
    "    # Fit the model on training data\n",
    "    rf_regressor.fit(X_train, y_train)\n",
    "    \n",
    "    # Calculate R-squared values for training set\n",
    "    train_rsq = r2_score(y_train, rf_regressor.predict(X_train))\n",
    "    train_rsq_values.append(train_rsq)\n",
    "    \n",
    "    # Calculate R-squared values for testing set\n",
    "    test_rsq = r2_score(y_test, rf_regressor.predict(X_test))\n",
    "    test_rsq_values.append(test_rsq)\n",
    "\n",
    "# Plot the results\n",
    "plt.figure(figsize=(10, 6))\n",
    "plt.plot(max_depth_values, train_rsq_values, label='Train R-squared', marker='o')\n",
    "plt.plot(max_depth_values, test_rsq_values, label='Test R-squared', marker='o')\n",
    "plt.title('RandomForestRegressor Performance vs. Max Depth')\n",
    "plt.xlabel('Max Depth')\n",
    "plt.ylabel('R-squared')\n",
    "plt.legend()\n",
    "plt.show()\n",
    "\n",
    "# plateaus at around here"
   ]
  },
  {
   "cell_type": "markdown",
   "metadata": {},
   "source": [
    "### 2.3.1.1 (c) min_samples_split\n",
    "- can help to reduce overfitting \n"
   ]
  },
  {
   "cell_type": "markdown",
   "metadata": {},
   "source": [
    "###### min samples vs rsq (range: 2-21)"
   ]
  },
  {
   "cell_type": "code",
   "execution_count": null,
   "metadata": {},
   "outputs": [],
   "source": [
    "min_samples_split_values = np.arange(2, 21)\n",
    "\n",
    "# Lists to store R-squared values for both training and testing\n",
    "train_rsq_values = []\n",
    "test_rsq_values = []\n",
    "\n",
    "# Loop through different min_samples_split values\n",
    "for min_samples_split in min_samples_split_values:\n",
    "    # Create the RandomForestRegressor\n",
    "    rf_regressor = RandomForestRegressor(min_samples_split=min_samples_split, random_state=42)\n",
    "    \n",
    "    # Fit the model on training data\n",
    "    rf_regressor.fit(X_train, y_train)\n",
    "    \n",
    "    # Calculate R-squared values for training set\n",
    "    train_rsq_values.append(rf_regressor.score(X_train, y_train))\n",
    "    \n",
    "    # Calculate R-squared values for testing set\n",
    "    test_rsq_values.append(rf_regressor.score(X_test, y_test))\n",
    "\n",
    "# Plot the results\n",
    "plt.figure(figsize=(10, 6))\n",
    "plt.plot(min_samples_split_values, train_rsq_values, label='Train R-squared', marker='o')\n",
    "plt.plot(min_samples_split_values, test_rsq_values, label='Test R-squared', marker='o')\n",
    "plt.title('RandomForestRegressor Performance vs. Min Samples Split')\n",
    "plt.xlabel('Min Samples Split')\n",
    "plt.ylabel('R-squared')\n",
    "plt.legend()\n",
    "plt.show()\n",
    "\n",
    "# more splits help to reduce overfitting"
   ]
  },
  {
   "cell_type": "markdown",
   "metadata": {},
   "source": [
    "##### min sample vs rsq (range: 10-100)"
   ]
  },
  {
   "cell_type": "code",
   "execution_count": null,
   "metadata": {},
   "outputs": [],
   "source": [
    "min_samples_split_values = np.arange(10, 110,10)\n",
    "\n",
    "# Lists to store R-squared values for both training and testing\n",
    "train_rsq_values = []\n",
    "test_rsq_values = []\n",
    "\n",
    "# Loop through different min_samples_split values\n",
    "for min_samples_split in min_samples_split_values:\n",
    "    # Create the RandomForestRegressor\n",
    "    rf_regressor = RandomForestRegressor(min_samples_split=min_samples_split, random_state=42)\n",
    "    \n",
    "    # Fit the model on training data\n",
    "    rf_regressor.fit(X_train, y_train)\n",
    "    \n",
    "    # Calculate R-squared values for training set\n",
    "    train_rsq_values.append(rf_regressor.score(X_train, y_train))\n",
    "    \n",
    "    # Calculate R-squared values for testing set\n",
    "    test_rsq_values.append(rf_regressor.score(X_test, y_test))\n",
    "\n",
    "# Plot the results\n",
    "plt.figure(figsize=(10, 6))\n",
    "plt.plot(min_samples_split_values, train_rsq_values, label='Train R-squared', marker='o')\n",
    "plt.plot(min_samples_split_values, test_rsq_values, label='Test R-squared', marker='o')\n",
    "plt.title('RandomForestRegressor Performance vs. Min Samples Split')\n",
    "plt.xlabel('Min Samples Split')\n",
    "plt.ylabel('R-squared')\n",
    "plt.legend()\n",
    "plt.show()\n",
    "\n",
    "# more splits help to reduce overfitting"
   ]
  },
  {
   "cell_type": "markdown",
   "metadata": {},
   "source": [
    "### 2.3.1.1 (d) min_samples_leaf"
   ]
  },
  {
   "cell_type": "markdown",
   "metadata": {},
   "source": [
    "##### min_samples_leaf vs. train and test"
   ]
  },
  {
   "cell_type": "code",
   "execution_count": null,
   "metadata": {},
   "outputs": [],
   "source": [
    "min_samples_leaf_values = np.arange(1, 21)\n",
    "\n",
    "# Lists to store R-squared values for both training and testing\n",
    "train_rsq_values = []\n",
    "test_rsq_values = []\n",
    "\n",
    "# Loop through different min_samples_leaf values\n",
    "for min_samples_leaf in min_samples_leaf_values:\n",
    "    # Create the RandomForestRegressor\n",
    "    rf_regressor = RandomForestRegressor(min_samples_leaf=min_samples_leaf, random_state=42)\n",
    "    \n",
    "    # Fit the model on training data\n",
    "    rf_regressor.fit(X_train, y_train)\n",
    "    \n",
    "    # Calculate R-squared values for training set\n",
    "    train_rsq_values.append(rf_regressor.score(X_train, y_train))\n",
    "    \n",
    "    # Calculate R-squared values for testing set\n",
    "    test_rsq_values.append(rf_regressor.score(X_test, y_test))\n",
    "\n",
    "# Plot the results\n",
    "plt.figure(figsize=(10, 6))\n",
    "plt.plot(min_samples_leaf_values, train_rsq_values, label='Train R-squared', marker='o')\n",
    "plt.plot(min_samples_leaf_values, test_rsq_values, label='Test R-squared', marker='o')\n",
    "plt.title('RandomForestRegressor Performance vs. Min Samples Leaf')\n",
    "plt.xlabel('Min Samples Leaf')\n",
    "plt.ylabel('R-squared')\n",
    "plt.legend()\n",
    "plt.show()\n",
    "\n",
    "# leaf samples help to reduce overfitting but might reduce the scores"
   ]
  },
  {
   "cell_type": "markdown",
   "metadata": {},
   "source": [
    "### 2.3.1.2 Hyperparameter Optimization "
   ]
  },
  {
   "cell_type": "code",
   "execution_count": null,
   "metadata": {},
   "outputs": [],
   "source": []
  },
  {
   "cell_type": "markdown",
   "metadata": {},
   "source": [
    "### 2.3.2 Model 2 (XG Boost)"
   ]
  },
  {
   "cell_type": "code",
   "execution_count": null,
   "metadata": {},
   "outputs": [],
   "source": [
    "model_scores_regression(xgb_r)"
   ]
  },
  {
   "cell_type": "markdown",
   "metadata": {},
   "source": [
    "### 2.3.2.1 Hyperparameter Inspection"
   ]
  },
  {
   "cell_type": "markdown",
   "metadata": {},
   "source": [
    "- <mark>booster</mark> : type of booster, 2 types, tree booster and linear booster \n",
    "- <mark>n_estimators</mark> : number of trees \n",
    "- <mark>max_depth</mark> : depth of tree\n",
    "\n",
    "##### Tree Booster Params :  (according to docs) \n",
    "- <mark>eta</mark> : aka learning rate, range of 0,1 \n",
    "- <mark>gamma</mark> : minimum loss reduction required to make a further partition \n",
    "- <mark>subsample</mark> : subsample ratio of training instances \n",
    "- <mark>lambda</mark> : L2 regularization term on weights, range has no limit from 0\n",
    "- <mark>alpha</mark> : L1 regularization term, range has no limit from 0 \n",
    "\n",
    "reference : https://xgboost.readthedocs.io/en/stable/parameter.html"
   ]
  },
  {
   "cell_type": "markdown",
   "metadata": {},
   "source": [
    "### 2.3.2.1 (a) n_estimators"
   ]
  },
  {
   "cell_type": "code",
   "execution_count": null,
   "metadata": {},
   "outputs": [],
   "source": [
    "n_estimators_values = np.arange(100,1100,100)\n",
    "\n",
    "train_scores = []\n",
    "test_scores = []\n",
    "\n",
    "for n_estimators in n_estimators_values:\n",
    "    # Create an XGBoost Regressor with the current number of estimators\n",
    "    xgb_model = XGBRegressor(n_estimators=n_estimators, random_state=42)\n",
    "\n",
    "    # Train the model\n",
    "    xgb_model.fit(X_train, y_train)\n",
    "\n",
    "    # Predict on the training set\n",
    "    y_train_pred = xgb_model.predict(X_train)\n",
    "    train_r2 = r2_score(y_train, y_train_pred)\n",
    "    train_scores.append(train_r2)\n",
    "\n",
    "    # Predict on the test set\n",
    "    y_test_pred = xgb_model.predict(X_test)\n",
    "    test_r2 = r2_score(y_test, y_test_pred)\n",
    "    test_scores.append(test_r2)\n",
    "\n",
    "# Plot the learning curve\n",
    "plt.figure(figsize=(10, 6))\n",
    "plt.plot(n_estimators_values, train_scores, label='Train R-squared', marker='o')\n",
    "plt.plot(n_estimators_values, test_scores, label='Test R-squared', marker='o')\n",
    "plt.xlabel('Number of Estimators')\n",
    "plt.ylabel('R-squared')\n",
    "plt.title('Effect of Number of Estimators on XGBoost Regressor')\n",
    "plt.legend()\n",
    "plt.show()"
   ]
  },
  {
   "cell_type": "code",
   "execution_count": null,
   "metadata": {},
   "outputs": [],
   "source": [
    "n_estimators_values = np.arange(1000,11000,1000)\n",
    "\n",
    "train_scores = []\n",
    "test_scores = []\n",
    "\n",
    "for n_estimators in n_estimators_values:\n",
    "    # Create an XGBoost Regressor with the current number of estimators\n",
    "    xgb_model = XGBRegressor(n_estimators=n_estimators, random_state=42)\n",
    "\n",
    "    # Train the model\n",
    "    xgb_model.fit(X_train, y_train)\n",
    "\n",
    "    # Predict on the training set\n",
    "    y_train_pred = xgb_model.predict(X_train)\n",
    "    train_r2 = r2_score(y_train, y_train_pred)\n",
    "    train_scores.append(train_r2)\n",
    "\n",
    "    # Predict on the test set\n",
    "    y_test_pred = xgb_model.predict(X_test)\n",
    "    test_r2 = r2_score(y_test, y_test_pred)\n",
    "    test_scores.append(test_r2)\n",
    "\n",
    "# Plot the learning curve\n",
    "plt.figure(figsize=(10, 6))\n",
    "plt.plot(n_estimators_values, train_scores, label='Train R-squared', marker='o')\n",
    "plt.plot(n_estimators_values, test_scores, label='Test R-squared', marker='o')\n",
    "plt.xlabel('Number of Estimators')\n",
    "plt.ylabel('R-squared')\n",
    "plt.title('Effect of Number of Estimators on XGBoost Regressor')\n",
    "plt.legend()\n",
    "plt.show()\n",
    "\n",
    "# it plateaus as it goes higher, as expected. "
   ]
  },
  {
   "cell_type": "markdown",
   "metadata": {},
   "source": [
    "### 2.3.2.2 (b) eta"
   ]
  },
  {
   "cell_type": "code",
   "execution_count": null,
   "metadata": {},
   "outputs": [],
   "source": [
    "etas = np.arange(0.1, 1.1, 0.1)\n",
    "\n",
    "train_scores = []\n",
    "test_scores = []\n",
    "\n",
    "for eta in etas:\n",
    "    # Create an XGBoost Regressor with the current learning rate\n",
    "    xgb_model = XGBRegressor(learning_rate=eta, random_state=42)\n",
    "\n",
    "    # Train the model\n",
    "    xgb_model.fit(X_train, y_train)\n",
    "\n",
    "    # Predict on the training set\n",
    "    y_train_pred = xgb_model.predict(X_train)\n",
    "    train_r2 = r2_score(y_train, y_train_pred)\n",
    "    train_scores.append(train_r2)\n",
    "\n",
    "    # Predict on the test set\n",
    "    y_test_pred = xgb_model.predict(X_test)\n",
    "    test_r2 = r2_score(y_test, y_test_pred)\n",
    "    test_scores.append(test_r2)\n",
    "\n",
    "# Plot the learning curve\n",
    "plt.figure(figsize=(10, 6))\n",
    "plt.plot(etas, train_scores, label='Train R-squared', marker='o')\n",
    "plt.plot(etas, test_scores, label='Test R-squared', marker='o')\n",
    "plt.xlabel('Learning Rate (eta)')\n",
    "plt.ylabel('R-squared')\n",
    "plt.title('Learning Curve for XGBoost Regressor')\n",
    "plt.legend()\n",
    "plt.show()\n",
    "\n",
    "# higher learning rates make the model complicated?/ pay more attention to the train set"
   ]
  },
  {
   "cell_type": "markdown",
   "metadata": {},
   "source": [
    "### 2.3.1.2 (c) gamma"
   ]
  },
  {
   "cell_type": "code",
   "execution_count": null,
   "metadata": {},
   "outputs": [],
   "source": [
    "gamma_values = np.arange(0.1,1,0.1)\n",
    "\n",
    "train_scores = []\n",
    "test_scores = []\n",
    "\n",
    "for gamma in gamma_values:\n",
    "    # Create an XGBoost Regressor with the current gamma value\n",
    "    xgb_model = XGBRegressor(gamma=gamma, random_state=42)\n",
    "\n",
    "    # Train the model\n",
    "    xgb_model.fit(X_train, y_train)\n",
    "\n",
    "    # Predict on the training set\n",
    "    y_train_pred = xgb_model.predict(X_train)\n",
    "    train_r2 = r2_score(y_train, y_train_pred)\n",
    "    train_scores.append(train_r2)\n",
    "\n",
    "    # Predict on the test set\n",
    "    y_test_pred = xgb_model.predict(X_test)\n",
    "    test_r2 = r2_score(y_test, y_test_pred)\n",
    "    test_scores.append(test_r2)\n",
    "\n",
    "# Plot the learning curve\n",
    "plt.figure(figsize=(10, 6))\n",
    "plt.plot(gamma_values, train_scores, label='Train R-squared', marker='o')\n",
    "plt.plot(gamma_values, test_scores, label='Test R-squared', marker='o')\n",
    "plt.xlabel('Gamma')\n",
    "plt.ylabel('R-squared')\n",
    "plt.title('Effect of Gamma on XGBoost Regressor')\n",
    "plt.legend()\n",
    "plt.show()\n",
    "\n",
    "# gamma has no effect? "
   ]
  },
  {
   "cell_type": "code",
   "execution_count": null,
   "metadata": {},
   "outputs": [],
   "source": [
    "gamma_values = np.arange(1,10,1)\n",
    "\n",
    "train_scores = []\n",
    "test_scores = []\n",
    "\n",
    "for gamma in gamma_values:\n",
    "    # Create an XGBoost Regressor with the current gamma value\n",
    "    xgb_model = XGBRegressor(gamma=gamma, random_state=42)\n",
    "\n",
    "    # Train the model\n",
    "    xgb_model.fit(X_train, y_train)\n",
    "\n",
    "    # Predict on the training set\n",
    "    y_train_pred = xgb_model.predict(X_train)\n",
    "    train_r2 = r2_score(y_train, y_train_pred)\n",
    "    train_scores.append(train_r2)\n",
    "\n",
    "    # Predict on the test set\n",
    "    y_test_pred = xgb_model.predict(X_test)\n",
    "    test_r2 = r2_score(y_test, y_test_pred)\n",
    "    test_scores.append(test_r2)\n",
    "\n",
    "# Plot the learning curve\n",
    "plt.figure(figsize=(10, 6))\n",
    "plt.plot(gamma_values, train_scores, label='Train R-squared', marker='o')\n",
    "plt.plot(gamma_values, test_scores, label='Test R-squared', marker='o')\n",
    "plt.xlabel('Gamma')\n",
    "plt.ylabel('R-squared')\n",
    "plt.title('Effect of Gamma on XGBoost Regressor')\n",
    "plt.legend()\n",
    "plt.show()\n"
   ]
  },
  {
   "cell_type": "markdown",
   "metadata": {},
   "source": [
    "### 2.3.2.2 (d) subsample"
   ]
  },
  {
   "cell_type": "code",
   "execution_count": null,
   "metadata": {},
   "outputs": [],
   "source": [
    "subsample_values = np.arange(0.1,1,0.1)\n",
    "\n",
    "train_scores = []\n",
    "test_scores = []\n",
    "\n",
    "for subsample in subsample_values:\n",
    "    # Create an XGBoost Regressor with the current subsample value\n",
    "    xgb_model = XGBRegressor(subsample=subsample, random_state=42)\n",
    "\n",
    "    # Train the model\n",
    "    xgb_model.fit(X_train, y_train)\n",
    "\n",
    "    # Predict on the training set\n",
    "    y_train_pred = xgb_model.predict(X_train)\n",
    "    train_r2 = r2_score(y_train, y_train_pred)\n",
    "    train_scores.append(train_r2)\n",
    "\n",
    "    # Predict on the test set\n",
    "    y_test_pred = xgb_model.predict(X_test)\n",
    "    test_r2 = r2_score(y_test, y_test_pred)\n",
    "    test_scores.append(test_r2)\n",
    "\n",
    "# Plot the learning curve\n",
    "plt.figure(figsize=(10, 6))\n",
    "plt.plot(subsample_values, train_scores, label='Train R-squared', marker='o')\n",
    "plt.plot(subsample_values, test_scores, label='Test R-squared', marker='o')\n",
    "plt.xlabel('Subsample')\n",
    "plt.ylabel('R-squared')\n",
    "plt.title('Effect of Subsample on XGBoost Regressor')\n",
    "plt.legend()\n",
    "plt.show()"
   ]
  },
  {
   "cell_type": "markdown",
   "metadata": {},
   "source": [
    "### 2.3.1.2 (e) lambda"
   ]
  },
  {
   "cell_type": "code",
   "execution_count": null,
   "metadata": {},
   "outputs": [],
   "source": [
    "# Define a range of lambda (reg_lambda) values to explore\n",
    "lambda_values = np.arange(1,1000,1)\n",
    "\n",
    "train_scores = []\n",
    "test_scores = []\n",
    "\n",
    "for reg_lambda in lambda_values:\n",
    "    # Create an XGBoost Regressor with the current reg_lambda value\n",
    "    xgb_model = XGBRegressor(reg_lambda=reg_lambda, random_state=42)\n",
    "\n",
    "    # Train the model\n",
    "    xgb_model.fit(X_train, y_train)\n",
    "\n",
    "    # Predict on the training set\n",
    "    y_train_pred = xgb_model.predict(X_train)\n",
    "    train_r2 = r2_score(y_train, y_train_pred)\n",
    "    train_scores.append(train_r2)\n",
    "\n",
    "    # Predict on the test set\n",
    "    y_test_pred = xgb_model.predict(X_test)\n",
    "    test_r2 = r2_score(y_test, y_test_pred)\n",
    "    test_scores.append(test_r2)\n",
    "\n",
    "# Plot the learning curve\n",
    "plt.figure(figsize=(10, 6))\n",
    "plt.plot(lambda_values, train_scores, label='Train R-squared')\n",
    "plt.plot(lambda_values, test_scores, label='Test R-squared')\n",
    "plt.xlabel('Lambda (reg_lambda)')\n",
    "plt.ylabel('R-squared')\n",
    "plt.title('Effect of Lambda on XGBoost Regressor')\n",
    "plt.legend()\n",
    "plt.show()\n",
    "\n",
    "# regularisation helps to reduce overfitting, higher reduces it more"
   ]
  },
  {
   "cell_type": "markdown",
   "metadata": {},
   "source": [
    "### 2.3.2.2 (f) alpha "
   ]
  },
  {
   "cell_type": "code",
   "execution_count": null,
   "metadata": {},
   "outputs": [],
   "source": [
    "alpha_values = np.arange(1, 1001, 1)\n",
    "\n",
    "train_scores = []\n",
    "test_scores = []\n",
    "\n",
    "for alpha in alpha_values:\n",
    "    # Create an XGBoost Regressor with the current alpha value\n",
    "    xgb_model = XGBRegressor(alpha=alpha, random_state=42)\n",
    "\n",
    "    # Train the model\n",
    "    xgb_model.fit(X_train, y_train)\n",
    "\n",
    "    # Predict on the training set\n",
    "    y_train_pred = xgb_model.predict(X_train)\n",
    "    train_r2 = r2_score(y_train, y_train_pred)\n",
    "    train_scores.append(train_r2)\n",
    "\n",
    "    # Predict on the test set\n",
    "    y_test_pred = xgb_model.predict(X_test)\n",
    "    test_r2 = r2_score(y_test, y_test_pred)\n",
    "    test_scores.append(test_r2)\n",
    "\n",
    "# Plot the learning curve\n",
    "plt.figure(figsize=(10, 6))\n",
    "plt.plot(alpha_values, train_scores, label='Train R-squared')\n",
    "plt.plot(alpha_values, test_scores, label='Test R-squared')\n",
    "plt.xlabel('Alpha')\n",
    "plt.ylabel('R-squared')\n",
    "plt.title('Effect of Alpha on XGBoost Regressor')\n",
    "plt.legend()\n",
    "plt.show()"
   ]
  },
  {
   "cell_type": "markdown",
   "metadata": {},
   "source": [
    "### 2.3.2.2 (g) max_depth"
   ]
  },
  {
   "cell_type": "code",
   "execution_count": null,
   "metadata": {},
   "outputs": [],
   "source": [
    "max_depths = np.arange(6, 1000, 1)\n",
    "\n",
    "# Initialize empty lists to store train and test scores\n",
    "train_scores = []\n",
    "test_scores = []\n",
    "\n",
    "# Iterate over different max depths\n",
    "for depth in max_depths:\n",
    "    # Create and fit the XGBoost Regressor\n",
    "    model = XGBRegressor(max_depth=depth, random_state=42)\n",
    "    model.fit(X_train, y_train)\n",
    "    \n",
    "    # Make predictions on training and testing sets\n",
    "    y_train_pred = model.predict(X_train)\n",
    "    y_test_pred = model.predict(X_test)\n",
    "    \n",
    "    # Calculate R-squared and append to the lists\n",
    "    train_scores.append(r2_score(y_train, y_train_pred))\n",
    "    test_scores.append(r2_score(y_test, y_test_pred))\n",
    "\n",
    "# Plot the results\n",
    "plt.figure(figsize=(10, 6))\n",
    "plt.plot(max_depths, train_scores, label='Train R-squared')\n",
    "plt.plot(max_depths, test_scores, label='Test R-squared')\n",
    "plt.xlabel('Max Depth')\n",
    "plt.ylabel('R-squared')\n",
    "plt.title('XGBoost Regressor: Max Depth vs Train/Test R-squared')\n",
    "plt.legend()\n",
    "plt.show()"
   ]
  },
  {
   "cell_type": "markdown",
   "metadata": {},
   "source": [
    "### 2.3.2.3 Hyperparameter Optimization"
   ]
  },
  {
   "cell_type": "markdown",
   "metadata": {},
   "source": [
    "### 2.3.2.3 (a) GridSearchCV"
   ]
  },
  {
   "cell_type": "markdown",
   "metadata": {},
   "source": [
    "##### 1st iteration\n",
    "- lower estimators \n",
    "- add regularization params later on"
   ]
  },
  {
   "cell_type": "code",
   "execution_count": null,
   "metadata": {},
   "outputs": [],
   "source": [
    "param_grid = {'max_depth' : [10,20,30,50],\n",
    "              'n_estimators' : [100,400,700],\n",
    "              'eta' : [0.1,0.4,0.7,1], # 0-1\n",
    "              'subsample' : [0.1,0.4,0.7,1]} #0-1"
   ]
  },
  {
   "cell_type": "code",
   "execution_count": null,
   "metadata": {
    "scrolled": true
   },
   "outputs": [],
   "source": [
    "start_time = time.time()\n",
    "\n",
    "grid = GridSearchCV(estimator=xgb_r, param_grid=param_grid, scoring='r2',verbose = 3,refit=True).fit(X_train,y_train)\n",
    "\n",
    "end_time = time.time()\n",
    "\n",
    "elapsed_time = end_time - start_time"
   ]
  },
  {
   "cell_type": "code",
   "execution_count": null,
   "metadata": {
    "scrolled": true
   },
   "outputs": [],
   "source": [
    "print(grid.best_score_)\n",
    "print(grid.best_params_)\n",
    "\n",
    "minutes, seconds = divmod(elapsed_time, 60)\n",
    "formatted_time = \"{:02}:{:02}\".format(int(minutes), int(seconds))\n",
    "print(\"Elapsed Time: {}\".format(formatted_time))"
   ]
  },
  {
   "cell_type": "code",
   "execution_count": null,
   "metadata": {},
   "outputs": [],
   "source": [
    "xgb_r2 = XGBRegressor(eta=0.1,n_estimators=100, subsample=0.7,max_depth=10,random_state=42).fit(X_train,y_train)\n",
    "\n",
    "model_scores_regression(xgb_r2)\n",
    "\n",
    "# more overfitted, and train scores increase"
   ]
  },
  {
   "cell_type": "markdown",
   "metadata": {},
   "source": [
    "##### 2nd iteration - added regularization parameters\n",
    "- to reduce overfitting, we try to add regularisation \n",
    "- l1 and l2 can be used concurrently? "
   ]
  },
  {
   "cell_type": "code",
   "execution_count": null,
   "metadata": {},
   "outputs": [],
   "source": [
    "param_grid = {'n_estimators' : [50,100,200], # use a lower range \n",
    "              'eta' : [0.1,0.7,1], # 0-1\n",
    "              'subsample' : [0.1,0.7,1],\n",
    "              'lambda' : [600,800,1000],\n",
    "              'alpha' : [600,800,1000]} # these are the ranges for l2 and l1 where there is less overfitting "
   ]
  },
  {
   "cell_type": "code",
   "execution_count": null,
   "metadata": {
    "scrolled": true
   },
   "outputs": [],
   "source": [
    "start_time = time.time()\n",
    "\n",
    "grid = GridSearchCV(estimator=xgb_r, param_grid=param_grid, scoring='r2',verbose = 3,refit=True).fit(X_train,y_train)\n",
    "\n",
    "end_time = time.time()\n",
    "\n",
    "elapsed_time = end_time - start_time"
   ]
  },
  {
   "cell_type": "code",
   "execution_count": null,
   "metadata": {},
   "outputs": [],
   "source": [
    "print(grid.best_score_)\n",
    "print(grid.best_params_)\n",
    "\n",
    "minutes, seconds = divmod(elapsed_time, 60)\n",
    "formatted_time = \"{:02}:{:02}\".format(int(minutes), int(seconds))\n",
    "print(\"Elapsed Time: {}\".format(formatted_time)) "
   ]
  },
  {
   "cell_type": "code",
   "execution_count": null,
   "metadata": {},
   "outputs": [],
   "source": [
    "xgb_r3 = XGBRegressor(alpha=600,eta=0.7,reg_lambda=800,n_estimators=200,subsample=1,random_state=42).fit(X_train,y_train)\n",
    "\n",
    "model_scores_regression(xgb_r3)\n",
    "\n",
    "# test score slightly decreased"
   ]
  },
  {
   "cell_type": "markdown",
   "metadata": {},
   "source": [
    "##### 3rd iteration - reduce learning rate\n",
    "- for better generalisation, we reduce the learning rate \n",
    "- use higher values for regularisation params to reduce overfitting"
   ]
  },
  {
   "cell_type": "code",
   "execution_count": null,
   "metadata": {},
   "outputs": [],
   "source": [
    "param_grid = {'n_estimators': [50, 100, 200],\n",
    "             'eta': [0.01, 0.05, 0.1, 0.7, 1],\n",
    "             'subsample': [0.5, 0.7, 1],\n",
    "             'lambda': [800, 1000, 1200],\n",
    "             'alpha': [800, 1000, 1200]}"
   ]
  },
  {
   "cell_type": "code",
   "execution_count": null,
   "metadata": {
    "scrolled": true
   },
   "outputs": [],
   "source": [
    "start_time = time.time()\n",
    "\n",
    "grid = GridSearchCV(estimator=xgb_r, param_grid=param_grid, scoring='r2',verbose = 3,refit=True).fit(X_train,y_train)\n",
    "\n",
    "end_time = time.time()\n",
    "\n",
    "elapsed_time = end_time - start_time"
   ]
  },
  {
   "cell_type": "code",
   "execution_count": null,
   "metadata": {},
   "outputs": [],
   "source": [
    "print(grid.best_score_)\n",
    "print(grid.best_params_)\n",
    "\n",
    "minutes, seconds = divmod(elapsed_time, 60)\n",
    "formatted_time = \"{:02}:{:02}\".format(int(minutes), int(seconds))\n",
    "print(\"Elapsed Time: {}\".format(formatted_time)) "
   ]
  },
  {
   "cell_type": "code",
   "execution_count": null,
   "metadata": {},
   "outputs": [],
   "source": [
    "xgb_r4 = XGBRegressor(alpha=800,eta=0.7,reg_lamda=1000,n_estimators=200,subsample=1).fit(X_train,y_train)\n",
    "\n",
    "model_scores_regression(xgb_r4)"
   ]
  },
  {
   "cell_type": "markdown",
   "metadata": {},
   "source": [
    "### 2.3.3 Model 3 (SVR)"
   ]
  },
  {
   "cell_type": "code",
   "execution_count": null,
   "metadata": {
    "scrolled": false
   },
   "outputs": [],
   "source": [
    "model_scores_regression(svr)"
   ]
  },
  {
   "cell_type": "markdown",
   "metadata": {},
   "source": [
    "### 2.3.3.1 Hyperparam Inspection"
   ]
  },
  {
   "cell_type": "markdown",
   "metadata": {},
   "source": [
    "- <mark>kernel</mark> : type of kernel  \n",
    "- <mark>gamma</mark> : kernel coefficient for 'rbf','poly' and 'sigmoid'\n",
    "- <mark>C</mark> : regularization param\n",
    "- <mark>epsilon</mark> : regularization param\n",
    "- <mark>max_iter</mark> : iterations within solver"
   ]
  },
  {
   "cell_type": "markdown",
   "metadata": {},
   "source": [
    "### 2.3.3.1 (a) gamma"
   ]
  },
  {
   "cell_type": "code",
   "execution_count": null,
   "metadata": {},
   "outputs": [],
   "source": [
    "gamma_values = np.arange(1,10,1)\n",
    "\n",
    "# Lists to store R-squared values\n",
    "train_scores = []\n",
    "test_scores = []\n",
    "\n",
    "# Iterate over gamma values\n",
    "for gamma in gamma_values:\n",
    "    # Train SVR model\n",
    "    svr = SVR(kernel='rbf', gamma=gamma)\n",
    "    svr.fit(X_train, y_train)\n",
    "\n",
    "    # Predict on training set\n",
    "    y_train_pred = svr.predict(X_train)\n",
    "    train_rsq = r2_score(y_train, y_train_pred)\n",
    "    train_scores.append(train_rsq)\n",
    "\n",
    "    # Predict on test set\n",
    "    y_test_pred = svr.predict(X_test)\n",
    "    test_rsq = r2_score(y_test, y_test_pred)\n",
    "    test_scores.append(test_rsq)\n",
    "\n",
    "# Plot the results\n",
    "plt.figure(figsize=(10, 6))\n",
    "plt.plot(gamma_values, train_scores, label='Train R-squared')\n",
    "plt.plot(gamma_values, test_scores, label='Test R-squared')\n",
    "plt.xlabel('Gamma')\n",
    "plt.ylabel('R-squared')\n",
    "plt.title('Gamma vs. Train/Test R-squared for SVR')\n",
    "plt.legend()\n",
    "plt.show()"
   ]
  },
  {
   "cell_type": "code",
   "execution_count": null,
   "metadata": {},
   "outputs": [],
   "source": [
    "gamma_values = np.arange(10,100,10)\n",
    "\n",
    "# Lists to store R-squared values\n",
    "train_scores = []\n",
    "test_scores = []\n",
    "\n",
    "# Iterate over gamma values\n",
    "for gamma in gamma_values:\n",
    "    # Train SVR model\n",
    "    svr = SVR(kernel='rbf', gamma=gamma)\n",
    "    svr.fit(X_train, y_train)\n",
    "\n",
    "    # Predict on training set\n",
    "    y_train_pred = svr.predict(X_train)\n",
    "    train_rsq = r2_score(y_train, y_train_pred)\n",
    "    train_scores.append(train_rsq)\n",
    "\n",
    "    # Predict on test set\n",
    "    y_test_pred = svr.predict(X_test)\n",
    "    test_rsq = r2_score(y_test, y_test_pred)\n",
    "    test_scores.append(test_rsq)\n",
    "\n",
    "# Plot the results\n",
    "plt.figure(figsize=(10, 6))\n",
    "plt.plot(gamma_values, train_scores, label='Train R-squared')\n",
    "plt.plot(gamma_values, test_scores, label='Test R-squared')# Use a log scale for better visualization\n",
    "plt.xlabel('Gamma')\n",
    "plt.ylabel('R-squared')\n",
    "plt.title('Gamma vs. Train/Test R-squared for SVR')\n",
    "plt.legend()\n",
    "plt.show()"
   ]
  },
  {
   "cell_type": "markdown",
   "metadata": {},
   "source": [
    "### 2.3.3.1 (b) max_iter "
   ]
  },
  {
   "cell_type": "code",
   "execution_count": null,
   "metadata": {},
   "outputs": [],
   "source": [
    "max_iter_values = np.arange(100,1000,100)\n",
    "\n",
    "# Lists to store R-squared values\n",
    "train_scores = []\n",
    "test_scores = []\n",
    "\n",
    "# Iterate over max_iter values\n",
    "for max_iter in max_iter_values:\n",
    "    # Train SVR model\n",
    "    svr = SVR(kernel='linear', max_iter=max_iter)\n",
    "    svr.fit(X_train, y_train)\n",
    "\n",
    "    # Predict on training set\n",
    "    y_train_pred = svr.predict(X_train)\n",
    "    train_rsq = r2_score(y_train, y_train_pred)\n",
    "    train_scores.append(train_rsq)\n",
    "\n",
    "    # Predict on test set\n",
    "    y_test_pred = svr.predict(X_test)\n",
    "    test_rsq = r2_score(y_test, y_test_pred)\n",
    "    test_scores.append(test_rsq)\n",
    "\n",
    "# Plot the results\n",
    "plt.figure(figsize=(10, 6))\n",
    "plt.plot(max_iter_values, train_scores, label='Train R-squared')\n",
    "plt.plot(max_iter_values, test_scores, label='Test R-squared')\n",
    "plt.xlabel('Max Iterations')\n",
    "plt.ylabel('R-squared')\n",
    "plt.title('Max Iterations vs. Train/Test R-squared for Linear SVR')\n",
    "plt.legend()\n",
    "plt.show()"
   ]
  },
  {
   "cell_type": "code",
   "execution_count": null,
   "metadata": {},
   "outputs": [],
   "source": [
    "max_iter_values = np.arange(1000,5000,1000)\n",
    "\n",
    "# Lists to store R-squared values\n",
    "train_scores = []\n",
    "test_scores = []\n",
    "\n",
    "# Iterate over max_iter values\n",
    "for max_iter in max_iter_values:\n",
    "    # Train SVR model\n",
    "    svr = SVR(kernel='linear', max_iter=max_iter)\n",
    "    svr.fit(X_train, y_train)\n",
    "\n",
    "    # Predict on training set\n",
    "    y_train_pred = svr.predict(X_train)\n",
    "    train_rsq = r2_score(y_train, y_train_pred)\n",
    "    train_scores.append(train_rsq)\n",
    "\n",
    "    # Predict on test set\n",
    "    y_test_pred = svr.predict(X_test)\n",
    "    test_rsq = r2_score(y_test, y_test_pred)\n",
    "    test_scores.append(test_rsq)\n",
    "\n",
    "# Plot the results\n",
    "plt.figure(figsize=(10, 6))\n",
    "plt.plot(max_iter_values, train_scores, label='Train R-squared')\n",
    "plt.plot(max_iter_values, test_scores, label='Test R-squared')\n",
    "plt.xlabel('Max Iterations')\n",
    "plt.ylabel('R-squared')\n",
    "plt.title('Max Iterations vs. Train/Test R-squared for Linear SVR')\n",
    "plt.legend()\n",
    "plt.show()"
   ]
  },
  {
   "cell_type": "code",
   "execution_count": null,
   "metadata": {},
   "outputs": [],
   "source": [
    "max_iter_values = np.arange(5000,11000,1000)\n",
    "\n",
    "# Lists to store R-squared values\n",
    "train_scores = []\n",
    "test_scores = []\n",
    "\n",
    "# Iterate over max_iter values\n",
    "for max_iter in max_iter_values:\n",
    "    # Train SVR model\n",
    "    svr = SVR(kernel='linear', max_iter=max_iter)\n",
    "    svr.fit(X_train, y_train)\n",
    "\n",
    "    # Predict on training set\n",
    "    y_train_pred = svr.predict(X_train)\n",
    "    train_rsq = r2_score(y_train, y_train_pred)\n",
    "    train_scores.append(train_rsq)\n",
    "\n",
    "    # Predict on test set\n",
    "    y_test_pred = svr.predict(X_test)\n",
    "    test_rsq = r2_score(y_test, y_test_pred)\n",
    "    test_scores.append(test_rsq)\n",
    "\n",
    "# Plot the results\n",
    "plt.figure(figsize=(10, 6))\n",
    "plt.plot(max_iter_values, train_scores, label='Train R-squared')\n",
    "plt.plot(max_iter_values, test_scores, label='Test R-squared')\n",
    "plt.xlabel('Max Iterations')\n",
    "plt.ylabel('R-squared')\n",
    "plt.title('Max Iterations vs. Train/Test R-squared for Linear SVR')\n",
    "plt.legend()\n",
    "plt.show()"
   ]
  },
  {
   "cell_type": "markdown",
   "metadata": {},
   "source": [
    "### 2.3.3.1 (c) C"
   ]
  },
  {
   "cell_type": "code",
   "execution_count": null,
   "metadata": {},
   "outputs": [],
   "source": [
    "C_values = np.arange(0.1,1.1,0.1)\n",
    "\n",
    "# Lists to store R-squared values\n",
    "train_scores = []\n",
    "test_scores = []\n",
    "\n",
    "# Iterate over C values\n",
    "for C in C_values:\n",
    "    # Train SVR model\n",
    "    svr = SVR(C=C)\n",
    "    svr.fit(X_train, y_train)\n",
    "\n",
    "    # Predict on training set\n",
    "    y_train_pred = svr.predict(X_train)\n",
    "    train_rsq = r2_score(y_train, y_train_pred)\n",
    "    train_scores.append(train_rsq)\n",
    "\n",
    "    # Predict on test set\n",
    "    y_test_pred = svr.predict(X_test)\n",
    "    test_rsq = r2_score(y_test, y_test_pred)\n",
    "    test_scores.append(test_rsq)\n",
    "\n",
    "# Plot the results\n",
    "plt.figure(figsize=(10, 6))\n",
    "plt.plot(C_values, train_scores, label='Train R-squared')\n",
    "plt.plot(C_values, test_scores, label='Test R-squared')\n",
    "plt.xlabel('C (Regularization Parameter)')\n",
    "plt.ylabel('R-squared')\n",
    "plt.title('C vs. Train/Test R-squared for SVR')\n",
    "plt.legend()\n",
    "plt.show()"
   ]
  },
  {
   "cell_type": "code",
   "execution_count": null,
   "metadata": {},
   "outputs": [],
   "source": [
    "C_values = np.arange(1,11,1)\n",
    "\n",
    "# Lists to store R-squared values\n",
    "train_scores = []\n",
    "test_scores = []\n",
    "\n",
    "# Iterate over C values\n",
    "for C in C_values:\n",
    "    # Train SVR model\n",
    "    svr = SVR(C=C)\n",
    "    svr.fit(X_train, y_train)\n",
    "\n",
    "    # Predict on training set\n",
    "    y_train_pred = svr.predict(X_train)\n",
    "    train_rsq = r2_score(y_train, y_train_pred)\n",
    "    train_scores.append(train_rsq)\n",
    "\n",
    "    # Predict on test set\n",
    "    y_test_pred = svr.predict(X_test)\n",
    "    test_rsq = r2_score(y_test, y_test_pred)\n",
    "    test_scores.append(test_rsq)\n",
    "\n",
    "# Plot the results\n",
    "plt.figure(figsize=(10, 6))\n",
    "plt.plot(C_values, train_scores, label='Train R-squared')\n",
    "plt.plot(C_values, test_scores, label='Test R-squared')\n",
    "plt.xlabel('C (Regularization Parameter)')\n",
    "plt.ylabel('R-squared')\n",
    "plt.title('C vs. Train/Test R-squared for SVR')\n",
    "plt.legend()\n",
    "plt.show()"
   ]
  },
  {
   "cell_type": "code",
   "execution_count": null,
   "metadata": {},
   "outputs": [],
   "source": [
    "C_values = np.arange(10,110,10)\n",
    "\n",
    "# Lists to store R-squared values\n",
    "train_scores = []\n",
    "test_scores = []\n",
    "\n",
    "# Iterate over C values\n",
    "for C in C_values:\n",
    "    # Train SVR model\n",
    "    svr = SVR(C=C)\n",
    "    svr.fit(X_train, y_train)\n",
    "\n",
    "    # Predict on training set\n",
    "    y_train_pred = svr.predict(X_train)\n",
    "    train_rsq = r2_score(y_train, y_train_pred)\n",
    "    train_scores.append(train_rsq)\n",
    "\n",
    "    # Predict on test set\n",
    "    y_test_pred = svr.predict(X_test)\n",
    "    test_rsq = r2_score(y_test, y_test_pred)\n",
    "    test_scores.append(test_rsq)\n",
    "\n",
    "# Plot the results\n",
    "plt.figure(figsize=(10, 6))\n",
    "plt.plot(C_values, train_scores, label='Train R-squared')\n",
    "plt.plot(C_values, test_scores, label='Test R-squared')\n",
    "plt.xlabel('C (Regularization Parameter)')\n",
    "plt.ylabel('R-squared')\n",
    "plt.title('C vs. Train/Test R-squared for SVR')\n",
    "plt.legend()\n",
    "plt.show()"
   ]
  },
  {
   "cell_type": "code",
   "execution_count": null,
   "metadata": {},
   "outputs": [],
   "source": [
    "C_values = np.arange(100,1100,100)\n",
    "\n",
    "# Lists to store R-squared values\n",
    "train_scores = []\n",
    "test_scores = []\n",
    "\n",
    "# Iterate over C values\n",
    "for C in C_values:\n",
    "    # Train SVR model\n",
    "    svr = SVR(C=C)\n",
    "    svr.fit(X_train, y_train)\n",
    "\n",
    "    # Predict on training set\n",
    "    y_train_pred = svr.predict(X_train)\n",
    "    train_rsq = r2_score(y_train, y_train_pred)\n",
    "    train_scores.append(train_rsq)\n",
    "\n",
    "    # Predict on test set\n",
    "    y_test_pred = svr.predict(X_test)\n",
    "    test_rsq = r2_score(y_test, y_test_pred)\n",
    "    test_scores.append(test_rsq)\n",
    "\n",
    "# Plot the results\n",
    "plt.figure(figsize=(10, 6))\n",
    "plt.plot(C_values, train_scores, label='Train R-squared')\n",
    "plt.plot(C_values, test_scores, label='Test R-squared')\n",
    "plt.xlabel('C (Regularization Parameter)')\n",
    "plt.ylabel('R-squared')\n",
    "plt.title('C vs. Train/Test R-squared for SVR')\n",
    "plt.legend()\n",
    "plt.show()"
   ]
  },
  {
   "cell_type": "markdown",
   "metadata": {},
   "source": [
    "### 2.3.3.1 (c) C"
   ]
  },
  {
   "cell_type": "code",
   "execution_count": null,
   "metadata": {},
   "outputs": [],
   "source": [
    "epsilon_values = [0.01, 0.1, 0.5, 1.0, 2.0, 5.0]\n",
    "\n",
    "# Initialize lists to store R-squared scores\n",
    "train_r2_scores = []\n",
    "test_r2_scores = []\n",
    "\n",
    "# Train SVR models with different epsilon values\n",
    "for epsilon in epsilon_values:\n",
    "    # Create and fit the SVR model\n",
    "    svr_model = SVR(epsilon=epsilon)\n",
    "    svr_model.fit(X_train, y_train)\n",
    "    \n",
    "    # Predict on the training set\n",
    "    y_train_pred = svr_model.predict(X_train)\n",
    "    train_r2 = r2_score(y_train, y_train_pred)\n",
    "    train_r2_scores.append(train_r2)\n",
    "\n",
    "    # Predict on the testing set\n",
    "    y_test_pred = svr_model.predict(X_test)\n",
    "    test_r2 = r2_score(y_test, y_test_pred)\n",
    "    test_r2_scores.append(test_r2)\n",
    "\n",
    "# Plotting the results\n",
    "plt.figure(figsize=(10, 6))\n",
    "plt.plot(epsilon_values, train_r2_scores, label='Training R-squared')\n",
    "plt.plot(epsilon_values, test_r2_scores, label='Testing R-squared')\n",
    "plt.xscale('log')  # Use a logarithmic scale for better visualization\n",
    "plt.title('Epsilon vs R-squared for SVR')\n",
    "plt.xlabel('Epsilon')\n",
    "plt.ylabel('R-squared Score')\n",
    "plt.legend()\n",
    "plt.show()"
   ]
  },
  {
   "cell_type": "markdown",
   "metadata": {},
   "source": [
    "### 2.3.3.2 Hyperparameter Optimization"
   ]
  },
  {
   "cell_type": "markdown",
   "metadata": {},
   "source": [
    "### 2.3.3.2 (a) GridSearchCV "
   ]
  },
  {
   "cell_type": "markdown",
   "metadata": {},
   "source": [
    "##### 1st  iteration - based off the information above"
   ]
  },
  {
   "cell_type": "code",
   "execution_count": null,
   "metadata": {},
   "outputs": [],
   "source": [
    "param_grid = {'kernel' : ['rbf','sigmoid','poly'],\n",
    "              'max_iter' :  [2000,3000,4000],\n",
    "              'C' : [0.1,0.6,1]}"
   ]
  },
  {
   "cell_type": "code",
   "execution_count": null,
   "metadata": {},
   "outputs": [],
   "source": [
    "start_time = time.time()\n",
    "\n",
    "grid = GridSearchCV(estimator=svr, param_grid=param_grid, scoring='r2',verbose = 3,refit=True).fit(X_train,y_train)\n",
    "\n",
    "end_time = time.time()\n",
    "\n",
    "elapsed_time = end_time - start_time"
   ]
  },
  {
   "cell_type": "code",
   "execution_count": null,
   "metadata": {},
   "outputs": [],
   "source": [
    "print(grid.best_score_)\n",
    "print(grid.best_params_)\n",
    "\n",
    "minutes, seconds = divmod(elapsed_time, 60)\n",
    "formatted_time = \"{:02}:{:02}\".format(int(minutes), int(seconds))\n",
    "print(\"Elapsed Time: {}\".format(formatted_time)) "
   ]
  },
  {
   "cell_type": "code",
   "execution_count": null,
   "metadata": {},
   "outputs": [],
   "source": [
    "svr2 = SVR(C=0.1,kernel='sigmoid',max_iter=2000).fit(X_train,y_train)\n",
    "\n",
    "model_scores_regression(svr2)\n",
    "\n",
    "# no idea why it is so bad from the base model "
   ]
  },
  {
   "cell_type": "markdown",
   "metadata": {},
   "source": [
    "##### 2nd iteration - dont include C?"
   ]
  },
  {
   "cell_type": "code",
   "execution_count": null,
   "metadata": {},
   "outputs": [],
   "source": [
    "param_grid = {'kernel' : ['rbf','sigmoid','poly'],\n",
    "              'max_iter' :  [2000,3000,4000]}"
   ]
  },
  {
   "cell_type": "code",
   "execution_count": null,
   "metadata": {
    "scrolled": true
   },
   "outputs": [],
   "source": [
    "start_time = time.time()\n",
    "\n",
    "grid = GridSearchCV(estimator=svr, param_grid=param_grid, scoring='r2',verbose = 3,refit=True).fit(X_train,y_train)\n",
    "\n",
    "end_time = time.time()\n",
    "\n",
    "elapsed_time = end_time - start_time"
   ]
  },
  {
   "cell_type": "code",
   "execution_count": null,
   "metadata": {},
   "outputs": [],
   "source": [
    "print(grid.best_score_)\n",
    "print(grid.best_params_)\n",
    "\n",
    "minutes, seconds = divmod(elapsed_time, 60)\n",
    "formatted_time = \"{:02}:{:02}\".format(int(minutes), int(seconds))\n",
    "print(\"Elapsed Time: {}\".format(formatted_time)) "
   ]
  },
  {
   "cell_type": "code",
   "execution_count": null,
   "metadata": {},
   "outputs": [],
   "source": [
    "svr3 = SVR(kernel='rbf',max_iter=2000).fit(X_train,y_train)\n",
    "\n",
    "model_scores_regression(svr2)\n",
    "\n",
    "# no idea why it is so bad from the base model \n",
    "# somehow no regularisation is better? "
   ]
  },
  {
   "cell_type": "markdown",
   "metadata": {},
   "source": [
    "##### 3rd iteration - higher regularization strength"
   ]
  },
  {
   "cell_type": "code",
   "execution_count": null,
   "metadata": {},
   "outputs": [],
   "source": [
    "param_grid = {'kernel' : ['rbf','sigmoid','poly'],\n",
    "              'max_iter' :  [2000,3000,4000],\n",
    "              'C' : [100,200,300]}"
   ]
  },
  {
   "cell_type": "code",
   "execution_count": null,
   "metadata": {
    "scrolled": true
   },
   "outputs": [],
   "source": [
    "start_time = time.time()\n",
    "\n",
    "grid = GridSearchCV(estimator=svr, param_grid=param_grid, scoring='r2',verbose = 3,refit=True).fit(X_train,y_train)\n",
    "\n",
    "end_time = time.time()\n",
    "\n",
    "elapsed_time = end_time - start_time"
   ]
  },
  {
   "cell_type": "code",
   "execution_count": null,
   "metadata": {},
   "outputs": [],
   "source": [
    "print(grid.best_score_)\n",
    "print(grid.best_params_)\n",
    "\n",
    "minutes, seconds = divmod(elapsed_time, 60)\n",
    "formatted_time = \"{:02}:{:02}\".format(int(minutes), int(seconds))\n",
    "print(\"Elapsed Time: {}\".format(formatted_time)) "
   ]
  },
  {
   "cell_type": "code",
   "execution_count": null,
   "metadata": {},
   "outputs": [],
   "source": [
    "svr4 = SVR(kernel='rbf',max_iter=4000,C=300).fit(X_train,y_train)\n",
    "\n",
    "model_scores_regression(svr3)\n",
    "\n",
    "# no idea why it is so bad from the base model \n",
    "# somehow no regularisation is better? "
   ]
  },
  {
   "cell_type": "markdown",
   "metadata": {},
   "source": [
    "##### 4th iteration - experiment gamma values\n",
    "- use higher iterations for the model to learn? \n"
   ]
  },
  {
   "cell_type": "code",
   "execution_count": null,
   "metadata": {},
   "outputs": [],
   "source": [
    "param_grid = {'kernel' : ['rbf','sigmoid','poly'],\n",
    "              'max_iter' :  [300,4000,5000],\n",
    "              'C' : [100,200,300],\n",
    "              'gamma' : [10,20,30]}"
   ]
  },
  {
   "cell_type": "code",
   "execution_count": null,
   "metadata": {
    "scrolled": true
   },
   "outputs": [],
   "source": [
    "start_time = time.time()\n",
    "\n",
    "grid = GridSearchCV(estimator=svr, param_grid=param_grid, scoring='r2',verbose = 3,refit=True).fit(X_train,y_train)\n",
    "\n",
    "end_time = time.time()\n",
    "\n",
    "elapsed_time = end_time - start_time"
   ]
  },
  {
   "cell_type": "code",
   "execution_count": null,
   "metadata": {},
   "outputs": [],
   "source": [
    "print(grid.best_score_)\n",
    "print(grid.best_params_)\n",
    "\n",
    "minutes, seconds = divmod(elapsed_time, 60)\n",
    "formatted_time = \"{:02}:{:02}\".format(int(minutes), int(seconds))\n",
    "print(\"Elapsed Time: {}\".format(formatted_time)) "
   ]
  },
  {
   "cell_type": "code",
   "execution_count": null,
   "metadata": {},
   "outputs": [],
   "source": [
    "svr5 = SVR(kernel='rbf',max_iter=5000,C=200,gamma=10).fit(X_train,y_train)\n",
    "\n",
    "model_scores_regression(svr5)\n",
    "\n",
    "# introducing gamma caused the model to overfit like crazy"
   ]
  },
  {
   "cell_type": "markdown",
   "metadata": {},
   "source": [
    "##### 5th iteration - introduce epsilon param\n",
    "- remove gamma from grid"
   ]
  },
  {
   "cell_type": "code",
   "execution_count": null,
   "metadata": {},
   "outputs": [],
   "source": [
    "param_grid = {'kernel' : ['rbf','sigmoid','poly'],\n",
    "              'max_iter' :  [300,4000,5000],\n",
    "              'C' : [100,200,300],\n",
    "              'epsilon' : [0.1,0.6,1]}"
   ]
  },
  {
   "cell_type": "code",
   "execution_count": null,
   "metadata": {
    "scrolled": true
   },
   "outputs": [],
   "source": [
    "start_time = time.time()\n",
    "\n",
    "grid = GridSearchCV(estimator=svr, param_grid=param_grid, scoring='r2',verbose = 3,refit=True).fit(X_train,y_train)\n",
    "\n",
    "end_time = time.time()\n",
    "\n",
    "elapsed_time = end_time - start_time"
   ]
  },
  {
   "cell_type": "code",
   "execution_count": null,
   "metadata": {},
   "outputs": [],
   "source": [
    "print(grid.best_score_)\n",
    "print(grid.best_params_)\n",
    "\n",
    "minutes, seconds = divmod(elapsed_time, 60)\n",
    "formatted_time = \"{:02}:{:02}\".format(int(minutes), int(seconds))\n",
    "print(\"Elapsed Time: {}\".format(formatted_time)) "
   ]
  },
  {
   "cell_type": "code",
   "execution_count": null,
   "metadata": {},
   "outputs": [],
   "source": [
    "svr6 = SVR(kernel='rbf',max_iter=5000,C=300,epsilon=1).fit(X_train,y_train)\n",
    "\n",
    "model_scores_regression(svr6)"
   ]
  },
  {
   "cell_type": "markdown",
   "metadata": {},
   "source": [
    "##### 6th iteration - higher epsilon"
   ]
  },
  {
   "cell_type": "code",
   "execution_count": null,
   "metadata": {},
   "outputs": [],
   "source": [
    "param_grid = {'kernel' : ['rbf','sigmoid','poly','linear'],\n",
    "              'max_iter' :  [300,4000,5000],\n",
    "              'C' : [100,200,300],\n",
    "              'epsilon' : [1,3,5]}"
   ]
  },
  {
   "cell_type": "code",
   "execution_count": null,
   "metadata": {
    "scrolled": true
   },
   "outputs": [],
   "source": [
    "start_time = time.time()\n",
    "\n",
    "grid = GridSearchCV(estimator=svr, param_grid=param_grid, scoring='r2',verbose = 3,refit=True).fit(X_train,y_train)\n",
    "\n",
    "end_time = time.time()\n",
    "\n",
    "elapsed_time = end_time - start_time"
   ]
  },
  {
   "cell_type": "code",
   "execution_count": null,
   "metadata": {
    "scrolled": true
   },
   "outputs": [],
   "source": [
    "print(grid.best_score_)\n",
    "print(grid.best_params_)\n",
    "\n",
    "minutes, seconds = divmod(elapsed_time, 60)\n",
    "formatted_time = \"{:02}:{:02}\".format(int(minutes), int(seconds))\n",
    "print(\"Elapsed Time: {}\".format(formatted_time)) "
   ]
  },
  {
   "cell_type": "code",
   "execution_count": null,
   "metadata": {},
   "outputs": [],
   "source": [
    "svr7 = SVR(kernel='rbf',max_iter=5000,C=300,epsilon=5).fit(X_train,y_train)\n",
    "\n",
    "model_scores_regression(svr7)\n",
    "\n",
    "# train score went up "
   ]
  },
  {
   "cell_type": "code",
   "execution_count": null,
   "metadata": {},
   "outputs": [],
   "source": [
    "notebook_end_time = time.time()\n",
    "\n",
    "notebook_elapsed_time = notebook_end_time-notebook_start_time\n",
    "\n",
    "minutes, seconds = divmod(notebook_elapsed_time, 60)\n",
    "formatted_time = \"{:02}:{:02}\".format(int(minutes), int(seconds))\n",
    "print(\"Elapsed Time: {}\".format(formatted_time))"
   ]
  }
 ],
 "metadata": {
  "kernelspec": {
   "display_name": "Python 3 (ipykernel)",
   "language": "python",
   "name": "python3"
  },
  "language_info": {
   "codemirror_mode": {
    "name": "ipython",
    "version": 3
   },
   "file_extension": ".py",
   "mimetype": "text/x-python",
   "name": "python",
   "nbconvert_exporter": "python",
   "pygments_lexer": "ipython3",
   "version": "3.9.12"
  }
 },
 "nbformat": 4,
 "nbformat_minor": 2
}
